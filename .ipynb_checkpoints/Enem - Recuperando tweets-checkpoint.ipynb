{
 "cells": [
  {
   "cell_type": "code",
   "execution_count": 1,
   "id": "f3012582",
   "metadata": {},
   "outputs": [],
   "source": [
    "import tweepy as tw\n",
    "import pandas as pd"
   ]
  },
  {
   "cell_type": "code",
   "execution_count": 2,
   "id": "51899dfc",
   "metadata": {},
   "outputs": [
    {
     "ename": "FileNotFoundError",
     "evalue": "[Errno 2] No such file or directory: 'twitter-tokens.txt'",
     "output_type": "error",
     "traceback": [
      "\u001b[0;31m---------------------------------------------------------------------------\u001b[0m",
      "\u001b[0;31mFileNotFoundError\u001b[0m                         Traceback (most recent call last)",
      "\u001b[0;32m/var/folders/kt/31q22mgj6v926d5t98wwmfb40000gn/T/ipykernel_14402/3891754387.py\u001b[0m in \u001b[0;36m<module>\u001b[0;34m\u001b[0m\n\u001b[0;32m----> 1\u001b[0;31m \u001b[0;32mwith\u001b[0m \u001b[0mopen\u001b[0m\u001b[0;34m(\u001b[0m\u001b[0;34m'twitter-tokens.txt'\u001b[0m\u001b[0;34m,\u001b[0m \u001b[0;34m'r'\u001b[0m\u001b[0;34m)\u001b[0m \u001b[0;32mas\u001b[0m \u001b[0mtfile\u001b[0m\u001b[0;34m:\u001b[0m\u001b[0;34m\u001b[0m\u001b[0;34m\u001b[0m\u001b[0m\n\u001b[0m\u001b[1;32m      2\u001b[0m     \u001b[0mCONSUMER_KEY\u001b[0m \u001b[0;34m=\u001b[0m \u001b[0mtfile\u001b[0m\u001b[0;34m.\u001b[0m\u001b[0mreadline\u001b[0m\u001b[0;34m(\u001b[0m\u001b[0;34m)\u001b[0m\u001b[0;34m.\u001b[0m\u001b[0mstrip\u001b[0m\u001b[0;34m(\u001b[0m\u001b[0;34m'\\n'\u001b[0m\u001b[0;34m)\u001b[0m\u001b[0;34m\u001b[0m\u001b[0;34m\u001b[0m\u001b[0m\n\u001b[1;32m      3\u001b[0m     \u001b[0mCONSUMER_SECRET\u001b[0m \u001b[0;34m=\u001b[0m \u001b[0mtfile\u001b[0m\u001b[0;34m.\u001b[0m\u001b[0mreadline\u001b[0m\u001b[0;34m(\u001b[0m\u001b[0;34m)\u001b[0m\u001b[0;34m.\u001b[0m\u001b[0mstrip\u001b[0m\u001b[0;34m(\u001b[0m\u001b[0;34m'\\n'\u001b[0m\u001b[0;34m)\u001b[0m\u001b[0;34m\u001b[0m\u001b[0;34m\u001b[0m\u001b[0m\n\u001b[1;32m      4\u001b[0m     \u001b[0mACCESS_TOKEN\u001b[0m \u001b[0;34m=\u001b[0m \u001b[0mtfile\u001b[0m\u001b[0;34m.\u001b[0m\u001b[0mreadline\u001b[0m\u001b[0;34m(\u001b[0m\u001b[0;34m)\u001b[0m\u001b[0;34m.\u001b[0m\u001b[0mstrip\u001b[0m\u001b[0;34m(\u001b[0m\u001b[0;34m'\\n'\u001b[0m\u001b[0;34m)\u001b[0m\u001b[0;34m\u001b[0m\u001b[0;34m\u001b[0m\u001b[0m\n\u001b[1;32m      5\u001b[0m     \u001b[0mACCESS_TOKEN_SECRET\u001b[0m \u001b[0;34m=\u001b[0m \u001b[0mtfile\u001b[0m\u001b[0;34m.\u001b[0m\u001b[0mreadline\u001b[0m\u001b[0;34m(\u001b[0m\u001b[0;34m)\u001b[0m\u001b[0;34m.\u001b[0m\u001b[0mstrip\u001b[0m\u001b[0;34m(\u001b[0m\u001b[0;34m'\\n'\u001b[0m\u001b[0;34m)\u001b[0m\u001b[0;34m\u001b[0m\u001b[0;34m\u001b[0m\u001b[0m\n",
      "\u001b[0;31mFileNotFoundError\u001b[0m: [Errno 2] No such file or directory: 'twitter-tokens.txt'"
     ]
    }
   ],
   "source": [
    "with open('twitter-tokens.txt', 'r') as tfile:\n",
    "    CONSUMER_KEY = tfile.readline().strip('\\n')\n",
    "    CONSUMER_SECRET = tfile.readline().strip('\\n')\n",
    "    ACCESS_TOKEN = tfile.readline().strip('\\n')\n",
    "    ACCESS_TOKEN_SECRET = tfile.readline().strip('\\n')\n",
    "    BEARER_TOKEN= tfile.readline().strip('\\n')"
   ]
  },
  {
   "cell_type": "code",
   "execution_count": null,
   "id": "2df39a5e",
   "metadata": {},
   "outputs": [],
   "source": [
    "auth = tw.OAuthHandler(CONSUMER_KEY, CONSUMER_SECRET)\n",
    "auth.set_access_token(ACCESS_TOKEN, ACCESS_TOKEN_SECRET)"
   ]
  },
  {
   "cell_type": "code",
   "execution_count": null,
   "id": "8799dbc2",
   "metadata": {},
   "outputs": [],
   "source": [
    "api = tw.API(auth)"
   ]
  },
  {
   "cell_type": "code",
   "execution_count": null,
   "id": "2e617bb5",
   "metadata": {},
   "outputs": [],
   "source": [
    "query_search = \"#ENEM\" + '-filter:retweets'"
   ]
  },
  {
   "cell_type": "code",
   "execution_count": null,
   "id": "f9255c66",
   "metadata": {},
   "outputs": [],
   "source": [
    "cursor_tweet = tw.Cursor(api.search_tweets, q=query_search).items(10)"
   ]
  },
  {
   "cell_type": "code",
   "execution_count": null,
   "id": "39b20388",
   "metadata": {},
   "outputs": [],
   "source": [
    "for tweet in cursor_tweet:\n",
    "    print(tweet.created_at)\n",
    "    print(tweet.text)"
   ]
  },
  {
   "cell_type": "code",
   "execution_count": null,
   "id": "2d0c93a2",
   "metadata": {},
   "outputs": [],
   "source": [
    "twkeys = tweet._json.keys()"
   ]
  },
  {
   "cell_type": "code",
   "execution_count": null,
   "id": "e4195f68",
   "metadata": {},
   "outputs": [],
   "source": [
    "tweets_dict = {}\n",
    "tweets_dict = tweets_dict.fromkeys(twkeys)"
   ]
  },
  {
   "cell_type": "code",
   "execution_count": null,
   "id": "22f7d810",
   "metadata": {},
   "outputs": [],
   "source": [
    "tweets_dict"
   ]
  },
  {
   "cell_type": "code",
   "execution_count": null,
   "id": "8494c4b0",
   "metadata": {},
   "outputs": [],
   "source": [
    "query_search = \"#ENEM\" + '-filter:retweets'\n",
    "cursor_tweet = tw.Cursor(api.search_tweets, q=query_search).items(50)\n",
    "\n",
    "for tweet in cursor_tweet:\n",
    "    for key in tweets_dict.keys():\n",
    "        try:\n",
    "            twkey = tweet._json[key]\n",
    "            tweets_dict[key].append(twkey)\n",
    "        except KeyError:\n",
    "            twkey = \"\"\n",
    "            tweets_dict[key].append(\"\")\n",
    "        except:\n",
    "            tweets_dict[key] = [twkey]\n",
    "        print('tweets_dict[key]: {} - tweet[key]: {}'.format(tweets_dict[key], twkey))"
   ]
  },
  {
   "cell_type": "code",
   "execution_count": null,
   "id": "d9a22988",
   "metadata": {},
   "outputs": [],
   "source": [
    "tweet_df = pd.DataFrame.from_dict(tweets_dict)"
   ]
  },
  {
   "cell_type": "code",
   "execution_count": null,
   "id": "83e09a8d",
   "metadata": {},
   "outputs": [],
   "source": [
    "tweet_df"
   ]
  },
  {
   "cell_type": "code",
   "execution_count": null,
   "id": "fc69d5ad",
   "metadata": {},
   "outputs": [],
   "source": [
    "pd.set_option('display.max_rows', 500)\n",
    "tweet_df.text"
   ]
  },
  {
   "cell_type": "code",
   "execution_count": null,
   "id": "e92a0bc7",
   "metadata": {},
   "outputs": [],
   "source": []
  },
  {
   "cell_type": "code",
   "execution_count": null,
   "id": "fb535119",
   "metadata": {},
   "outputs": [],
   "source": []
  }
 ],
 "metadata": {
  "kernelspec": {
   "display_name": "Python 3 (ipykernel)",
   "language": "python",
   "name": "python3"
  },
  "language_info": {
   "codemirror_mode": {
    "name": "ipython",
    "version": 3
   },
   "file_extension": ".py",
   "mimetype": "text/x-python",
   "name": "python",
   "nbconvert_exporter": "python",
   "pygments_lexer": "ipython3",
   "version": "3.9.7"
  }
 },
 "nbformat": 4,
 "nbformat_minor": 5
}
