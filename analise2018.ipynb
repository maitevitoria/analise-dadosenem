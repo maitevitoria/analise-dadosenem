{
 "cells": [
  {
   "cell_type": "markdown",
   "id": "3798b53d",
   "metadata": {},
   "source": [
    "## Análise de Microdados ENEM"
   ]
  },
  {
   "cell_type": "code",
   "execution_count": 1,
   "id": "1b9485ac",
   "metadata": {},
   "outputs": [],
   "source": [
    "import pandas as pd\n",
    "import matplotlib"
   ]
  },
  {
   "cell_type": "code",
   "execution_count": 2,
   "id": "c93de54c",
   "metadata": {},
   "outputs": [],
   "source": [
    "colunas = ['NU_INSCRICAO','NO_MUNICIPIO_RESIDENCIA', 'CO_UF_RESIDENCIA', 'SG_UF_RESIDENCIA',\n",
    "       'NU_IDADE', 'TP_SEXO','TP_COR_RACA','TP_NACIONALIDADE','IN_GESTANTE', 'NU_NOTA_REDACAO', 'NU_NOTA_MT', 'Q001', 'Q002']"
   ]
  },
  {
   "cell_type": "code",
   "execution_count": 3,
   "id": "fddd589d",
   "metadata": {},
   "outputs": [],
   "source": [
    "dadoenem_df = pd.read_csv('brutos/microdados_enem2018/DADOS/MICRODADOS_ENEM_2018.csv', sep=';', encoding='iso-8859-1', usecols=colunas)"
   ]
  },
  {
   "cell_type": "code",
   "execution_count": 4,
   "id": "37d7eb91",
   "metadata": {
    "scrolled": true
   },
   "outputs": [
    {
     "data": {
      "text/html": [
       "<div>\n",
       "<style scoped>\n",
       "    .dataframe tbody tr th:only-of-type {\n",
       "        vertical-align: middle;\n",
       "    }\n",
       "\n",
       "    .dataframe tbody tr th {\n",
       "        vertical-align: top;\n",
       "    }\n",
       "\n",
       "    .dataframe thead th {\n",
       "        text-align: right;\n",
       "    }\n",
       "</style>\n",
       "<table border=\"1\" class=\"dataframe\">\n",
       "  <thead>\n",
       "    <tr style=\"text-align: right;\">\n",
       "      <th></th>\n",
       "      <th>NU_INSCRICAO</th>\n",
       "      <th>NO_MUNICIPIO_RESIDENCIA</th>\n",
       "      <th>CO_UF_RESIDENCIA</th>\n",
       "      <th>SG_UF_RESIDENCIA</th>\n",
       "      <th>NU_IDADE</th>\n",
       "      <th>TP_SEXO</th>\n",
       "      <th>TP_COR_RACA</th>\n",
       "      <th>TP_NACIONALIDADE</th>\n",
       "      <th>IN_GESTANTE</th>\n",
       "      <th>NU_NOTA_MT</th>\n",
       "      <th>NU_NOTA_REDACAO</th>\n",
       "      <th>Q001</th>\n",
       "      <th>Q002</th>\n",
       "    </tr>\n",
       "  </thead>\n",
       "  <tbody>\n",
       "    <tr>\n",
       "      <th>0</th>\n",
       "      <td>180008202043</td>\n",
       "      <td>Brasília</td>\n",
       "      <td>53</td>\n",
       "      <td>DF</td>\n",
       "      <td>44.0</td>\n",
       "      <td>M</td>\n",
       "      <td>1</td>\n",
       "      <td>0</td>\n",
       "      <td>0</td>\n",
       "      <td>NaN</td>\n",
       "      <td>NaN</td>\n",
       "      <td>A</td>\n",
       "      <td>A</td>\n",
       "    </tr>\n",
       "    <tr>\n",
       "      <th>1</th>\n",
       "      <td>180007197856</td>\n",
       "      <td>São João dos Patos</td>\n",
       "      <td>21</td>\n",
       "      <td>MA</td>\n",
       "      <td>23.0</td>\n",
       "      <td>F</td>\n",
       "      <td>3</td>\n",
       "      <td>1</td>\n",
       "      <td>0</td>\n",
       "      <td>480.3</td>\n",
       "      <td>280.0</td>\n",
       "      <td>B</td>\n",
       "      <td>B</td>\n",
       "    </tr>\n",
       "    <tr>\n",
       "      <th>2</th>\n",
       "      <td>180008517434</td>\n",
       "      <td>Mogi das Cruzes</td>\n",
       "      <td>35</td>\n",
       "      <td>SP</td>\n",
       "      <td>23.0</td>\n",
       "      <td>F</td>\n",
       "      <td>1</td>\n",
       "      <td>1</td>\n",
       "      <td>0</td>\n",
       "      <td>NaN</td>\n",
       "      <td>NaN</td>\n",
       "      <td>E</td>\n",
       "      <td>E</td>\n",
       "    </tr>\n",
       "    <tr>\n",
       "      <th>3</th>\n",
       "      <td>180007661228</td>\n",
       "      <td>Itapetinga</td>\n",
       "      <td>29</td>\n",
       "      <td>BA</td>\n",
       "      <td>26.0</td>\n",
       "      <td>F</td>\n",
       "      <td>3</td>\n",
       "      <td>2</td>\n",
       "      <td>0</td>\n",
       "      <td>NaN</td>\n",
       "      <td>NaN</td>\n",
       "      <td>B</td>\n",
       "      <td>C</td>\n",
       "    </tr>\n",
       "    <tr>\n",
       "      <th>4</th>\n",
       "      <td>180008787987</td>\n",
       "      <td>Jeremoabo</td>\n",
       "      <td>29</td>\n",
       "      <td>BA</td>\n",
       "      <td>20.0</td>\n",
       "      <td>M</td>\n",
       "      <td>0</td>\n",
       "      <td>1</td>\n",
       "      <td>0</td>\n",
       "      <td>NaN</td>\n",
       "      <td>360.0</td>\n",
       "      <td>C</td>\n",
       "      <td>E</td>\n",
       "    </tr>\n",
       "  </tbody>\n",
       "</table>\n",
       "</div>"
      ],
      "text/plain": [
       "   NU_INSCRICAO NO_MUNICIPIO_RESIDENCIA  CO_UF_RESIDENCIA SG_UF_RESIDENCIA  \\\n",
       "0  180008202043                Brasília                53               DF   \n",
       "1  180007197856      São João dos Patos                21               MA   \n",
       "2  180008517434         Mogi das Cruzes                35               SP   \n",
       "3  180007661228              Itapetinga                29               BA   \n",
       "4  180008787987               Jeremoabo                29               BA   \n",
       "\n",
       "   NU_IDADE TP_SEXO  TP_COR_RACA  TP_NACIONALIDADE  IN_GESTANTE  NU_NOTA_MT  \\\n",
       "0      44.0       M            1                 0            0         NaN   \n",
       "1      23.0       F            3                 1            0       480.3   \n",
       "2      23.0       F            1                 1            0         NaN   \n",
       "3      26.0       F            3                 2            0         NaN   \n",
       "4      20.0       M            0                 1            0         NaN   \n",
       "\n",
       "   NU_NOTA_REDACAO Q001 Q002  \n",
       "0              NaN    A    A  \n",
       "1            280.0    B    B  \n",
       "2              NaN    E    E  \n",
       "3              NaN    B    C  \n",
       "4            360.0    C    E  "
      ]
     },
     "execution_count": 4,
     "metadata": {},
     "output_type": "execute_result"
    }
   ],
   "source": [
    "dadoenem_df.head()"
   ]
  },
  {
   "cell_type": "code",
   "execution_count": 5,
   "id": "5a2c1ba0",
   "metadata": {},
   "outputs": [
    {
     "name": "stdout",
     "output_type": "stream",
     "text": [
      "<class 'pandas.core.frame.DataFrame'>\n",
      "RangeIndex: 5513747 entries, 0 to 5513746\n",
      "Data columns (total 13 columns):\n",
      " #   Column                   Dtype  \n",
      "---  ------                   -----  \n",
      " 0   NU_INSCRICAO             int64  \n",
      " 1   NO_MUNICIPIO_RESIDENCIA  object \n",
      " 2   CO_UF_RESIDENCIA         int64  \n",
      " 3   SG_UF_RESIDENCIA         object \n",
      " 4   NU_IDADE                 float64\n",
      " 5   TP_SEXO                  object \n",
      " 6   TP_COR_RACA              int64  \n",
      " 7   TP_NACIONALIDADE         int64  \n",
      " 8   IN_GESTANTE              int64  \n",
      " 9   NU_NOTA_MT               float64\n",
      " 10  NU_NOTA_REDACAO          float64\n",
      " 11  Q001                     object \n",
      " 12  Q002                     object \n",
      "dtypes: float64(3), int64(5), object(5)\n",
      "memory usage: 1.9 GB\n"
     ]
    }
   ],
   "source": [
    "dadoenem_df.info(memory_usage='deep')"
   ]
  },
  {
   "cell_type": "code",
   "execution_count": 6,
   "id": "99b62edb",
   "metadata": {
    "scrolled": true
   },
   "outputs": [
    {
     "data": {
      "text/plain": [
       "array(['NU_INSCRICAO', 'NO_MUNICIPIO_RESIDENCIA', 'CO_UF_RESIDENCIA',\n",
       "       'SG_UF_RESIDENCIA', 'NU_IDADE', 'TP_SEXO', 'TP_COR_RACA',\n",
       "       'TP_NACIONALIDADE', 'IN_GESTANTE', 'NU_NOTA_MT', 'NU_NOTA_REDACAO',\n",
       "       'Q001', 'Q002'], dtype=object)"
      ]
     },
     "execution_count": 6,
     "metadata": {},
     "output_type": "execute_result"
    }
   ],
   "source": [
    "dadoenem_df.columns.values"
   ]
  },
  {
   "cell_type": "code",
   "execution_count": 7,
   "id": "d030a2f9",
   "metadata": {},
   "outputs": [],
   "source": [
    "enem_df = dadoenem_df"
   ]
  },
  {
   "cell_type": "code",
   "execution_count": 8,
   "id": "9bc2f4a2",
   "metadata": {},
   "outputs": [],
   "source": [
    "coluna_uf = enem_df['SG_UF_RESIDENCIA']"
   ]
  },
  {
   "cell_type": "code",
   "execution_count": 9,
   "id": "c45e5237",
   "metadata": {},
   "outputs": [
    {
     "data": {
      "text/plain": [
       "SP    934174\n",
       "MG    587471\n",
       "BA    401328\n",
       "RJ    382078\n",
       "CE    329406\n",
       "PE    304302\n",
       "PA    283861\n",
       "RS    243555\n",
       "PR    236533\n",
       "MA    218462\n",
       "GO    191029\n",
       "PB    152049\n",
       "RN    124039\n",
       "SC    123933\n",
       "AM    123755\n",
       "PI    118350\n",
       "ES    112173\n",
       "DF    104531\n",
       "MT     96762\n",
       "AL     89670\n",
       "SE     74633\n",
       "MS     72319\n",
       "RO     62266\n",
       "TO     55145\n",
       "AP     40109\n",
       "AC     37785\n",
       "RR     14029\n",
       "Name: SG_UF_RESIDENCIA, dtype: int64"
      ]
     },
     "execution_count": 9,
     "metadata": {},
     "output_type": "execute_result"
    }
   ],
   "source": [
    "coluna_uf.value_counts()"
   ]
  },
  {
   "cell_type": "code",
   "execution_count": 10,
   "id": "23f93294",
   "metadata": {},
   "outputs": [
    {
     "data": {
      "text/plain": [
       "<AxesSubplot:>"
      ]
     },
     "execution_count": 10,
     "metadata": {},
     "output_type": "execute_result"
    },
    {
     "data": {
      "image/png": "[encoded data removed]",
      "text/plain": [
       "<Figure size 432x288 with 1 Axes>"
      ]
     },
     "metadata": {
      "needs_background": "light"
     },
     "output_type": "display_data"
    }
   ],
   "source": [
    "coluna_uf.hist(bins=27)"
   ]
  },
  {
   "cell_type": "code",
   "execution_count": 11,
   "id": "c8cb5cf0",
   "metadata": {},
   "outputs": [],
   "source": [
    "coluna_gestantes = enem_df['IN_GESTANTE']"
   ]
  },
  {
   "cell_type": "code",
   "execution_count": 12,
   "id": "544d2992",
   "metadata": {},
   "outputs": [],
   "source": [
    "distGestante = coluna_gestantes.value_counts()"
   ]
  },
  {
   "cell_type": "code",
   "execution_count": 13,
   "id": "9ea15393",
   "metadata": {},
   "outputs": [
    {
     "data": {
      "text/plain": [
       "0    5511967\n",
       "1       1780\n",
       "Name: IN_GESTANTE, dtype: int64"
      ]
     },
     "execution_count": 13,
     "metadata": {},
     "output_type": "execute_result"
    }
   ],
   "source": [
    "distGestante"
   ]
  },
  {
   "cell_type": "code",
   "execution_count": 14,
   "id": "f562ae68",
   "metadata": {
    "scrolled": false
   },
   "outputs": [],
   "source": [
    "##Pegar o numero distgestante dividir pelo total e multiplicar por 100 para ter a % para cada um dos elementos distgestante - 2 elementos\n",
    "percentualGestante = [100*x/distGestante.sum() for x in distGestante] "
   ]
  },
  {
   "cell_type": "code",
   "execution_count": 15,
   "id": "bfb0ce31",
   "metadata": {},
   "outputs": [
    {
     "data": {
      "text/plain": [
       "[99.967717053394, 0.032282946606001325]"
      ]
     },
     "execution_count": 15,
     "metadata": {},
     "output_type": "execute_result"
    }
   ],
   "source": [
    "percentualGestante"
   ]
  },
  {
   "cell_type": "code",
   "execution_count": 16,
   "id": "3d364472",
   "metadata": {},
   "outputs": [],
   "source": [
    "coluna_tpsexo = enem_df['TP_SEXO']"
   ]
  },
  {
   "cell_type": "code",
   "execution_count": 17,
   "id": "c26d31f0",
   "metadata": {},
   "outputs": [],
   "source": [
    "distTpsexo = coluna_tpsexo.value_counts()"
   ]
  },
  {
   "cell_type": "code",
   "execution_count": 18,
   "id": "c3023aff",
   "metadata": {},
   "outputs": [
    {
     "data": {
      "text/plain": [
       "F    3257703\n",
       "M    2256044\n",
       "Name: TP_SEXO, dtype: int64"
      ]
     },
     "execution_count": 18,
     "metadata": {},
     "output_type": "execute_result"
    }
   ],
   "source": [
    "distTpsexo"
   ]
  },
  {
   "cell_type": "code",
   "execution_count": 19,
   "id": "9a2a0e81",
   "metadata": {},
   "outputs": [],
   "source": [
    "percentTpSexo = [100*x/distTpsexo.sum() for x in distTpsexo]"
   ]
  },
  {
   "cell_type": "code",
   "execution_count": 20,
   "id": "c7d51922",
   "metadata": {},
   "outputs": [],
   "source": [
    "##Percentual dentro do universo de quem se declara do sexo feminino"
   ]
  },
  {
   "cell_type": "code",
   "execution_count": 21,
   "id": "bdedbdf4",
   "metadata": {
    "scrolled": true
   },
   "outputs": [
    {
     "data": {
      "text/plain": [
       "0.054639726211996614"
      ]
     },
     "execution_count": 21,
     "metadata": {},
     "output_type": "execute_result"
    }
   ],
   "source": [
    "sexoFem = distTpsexo[0]\n",
    "\n",
    "num_gestantes = distGestante[1]\n",
    "\n",
    "percentGestantes = 100*num_gestantes/sexoFem\n",
    "\n",
    "percentGestantes"
   ]
  },
  {
   "cell_type": "code",
   "execution_count": 22,
   "id": "3b6b3e9b",
   "metadata": {},
   "outputs": [
    {
     "data": {
      "text/plain": [
       "99.945360273788"
      ]
     },
     "execution_count": 22,
     "metadata": {},
     "output_type": "execute_result"
    }
   ],
   "source": [
    "percentNgestantes = 100 - percentGestantes\n",
    "\n",
    "percentNgestantes"
   ]
  },
  {
   "cell_type": "code",
   "execution_count": 23,
   "id": "b2f1f87a",
   "metadata": {},
   "outputs": [],
   "source": [
    "#Analises com GroupBy\n",
    "colunasSelecionada = ['TP_SEXO', 'NU_NOTA_REDACAO']\n",
    "enem_redacao = dadoenem_df.filter(items=colunasSelecionada)"
   ]
  },
  {
   "cell_type": "code",
   "execution_count": 24,
   "id": "d7bab964",
   "metadata": {
    "scrolled": true
   },
   "outputs": [
    {
     "data": {
      "text/html": [
       "<div>\n",
       "<style scoped>\n",
       "    .dataframe tbody tr th:only-of-type {\n",
       "        vertical-align: middle;\n",
       "    }\n",
       "\n",
       "    .dataframe tbody tr th {\n",
       "        vertical-align: top;\n",
       "    }\n",
       "\n",
       "    .dataframe thead th {\n",
       "        text-align: right;\n",
       "    }\n",
       "</style>\n",
       "<table border=\"1\" class=\"dataframe\">\n",
       "  <thead>\n",
       "    <tr style=\"text-align: right;\">\n",
       "      <th></th>\n",
       "      <th>TP_SEXO</th>\n",
       "      <th>NU_NOTA_REDACAO</th>\n",
       "    </tr>\n",
       "  </thead>\n",
       "  <tbody>\n",
       "    <tr>\n",
       "      <th>0</th>\n",
       "      <td>M</td>\n",
       "      <td>NaN</td>\n",
       "    </tr>\n",
       "    <tr>\n",
       "      <th>1</th>\n",
       "      <td>F</td>\n",
       "      <td>280.0</td>\n",
       "    </tr>\n",
       "    <tr>\n",
       "      <th>2</th>\n",
       "      <td>F</td>\n",
       "      <td>NaN</td>\n",
       "    </tr>\n",
       "    <tr>\n",
       "      <th>3</th>\n",
       "      <td>F</td>\n",
       "      <td>NaN</td>\n",
       "    </tr>\n",
       "    <tr>\n",
       "      <th>4</th>\n",
       "      <td>M</td>\n",
       "      <td>360.0</td>\n",
       "    </tr>\n",
       "  </tbody>\n",
       "</table>\n",
       "</div>"
      ],
      "text/plain": [
       "  TP_SEXO  NU_NOTA_REDACAO\n",
       "0       M              NaN\n",
       "1       F            280.0\n",
       "2       F              NaN\n",
       "3       F              NaN\n",
       "4       M            360.0"
      ]
     },
     "execution_count": 24,
     "metadata": {},
     "output_type": "execute_result"
    }
   ],
   "source": [
    "enem_redacao.head()"
   ]
  },
  {
   "cell_type": "code",
   "execution_count": 25,
   "id": "250c3035",
   "metadata": {},
   "outputs": [],
   "source": [
    "enem_redacao = enem_redacao.dropna()"
   ]
  },
  {
   "cell_type": "code",
   "execution_count": 26,
   "id": "6c896394",
   "metadata": {},
   "outputs": [
    {
     "data": {
      "text/html": [
       "<div>\n",
       "<style scoped>\n",
       "    .dataframe tbody tr th:only-of-type {\n",
       "        vertical-align: middle;\n",
       "    }\n",
       "\n",
       "    .dataframe tbody tr th {\n",
       "        vertical-align: top;\n",
       "    }\n",
       "\n",
       "    .dataframe thead th {\n",
       "        text-align: right;\n",
       "    }\n",
       "</style>\n",
       "<table border=\"1\" class=\"dataframe\">\n",
       "  <thead>\n",
       "    <tr style=\"text-align: right;\">\n",
       "      <th></th>\n",
       "      <th>NU_NOTA_REDACAO</th>\n",
       "    </tr>\n",
       "    <tr>\n",
       "      <th>TP_SEXO</th>\n",
       "      <th></th>\n",
       "    </tr>\n",
       "  </thead>\n",
       "  <tbody>\n",
       "    <tr>\n",
       "      <th>F</th>\n",
       "      <td>2454691</td>\n",
       "    </tr>\n",
       "    <tr>\n",
       "      <th>M</th>\n",
       "      <td>1693573</td>\n",
       "    </tr>\n",
       "  </tbody>\n",
       "</table>\n",
       "</div>"
      ],
      "text/plain": [
       "         NU_NOTA_REDACAO\n",
       "TP_SEXO                 \n",
       "F                2454691\n",
       "M                1693573"
      ]
     },
     "execution_count": 26,
     "metadata": {},
     "output_type": "execute_result"
    }
   ],
   "source": [
    "enem_redacao.groupby('TP_SEXO').count()"
   ]
  },
  {
   "cell_type": "code",
   "execution_count": 27,
   "id": "903e652b",
   "metadata": {},
   "outputs": [
    {
     "data": {
      "text/html": [
       "<div>\n",
       "<style scoped>\n",
       "    .dataframe tbody tr th:only-of-type {\n",
       "        vertical-align: middle;\n",
       "    }\n",
       "\n",
       "    .dataframe tbody tr th {\n",
       "        vertical-align: top;\n",
       "    }\n",
       "\n",
       "    .dataframe thead th {\n",
       "        text-align: right;\n",
       "    }\n",
       "</style>\n",
       "<table border=\"1\" class=\"dataframe\">\n",
       "  <thead>\n",
       "    <tr style=\"text-align: right;\">\n",
       "      <th></th>\n",
       "      <th>NU_NOTA_REDACAO</th>\n",
       "    </tr>\n",
       "    <tr>\n",
       "      <th>TP_SEXO</th>\n",
       "      <th></th>\n",
       "    </tr>\n",
       "  </thead>\n",
       "  <tbody>\n",
       "    <tr>\n",
       "      <th>F</th>\n",
       "      <td>1000.0</td>\n",
       "    </tr>\n",
       "    <tr>\n",
       "      <th>M</th>\n",
       "      <td>1000.0</td>\n",
       "    </tr>\n",
       "  </tbody>\n",
       "</table>\n",
       "</div>"
      ],
      "text/plain": [
       "         NU_NOTA_REDACAO\n",
       "TP_SEXO                 \n",
       "F                 1000.0\n",
       "M                 1000.0"
      ]
     },
     "execution_count": 27,
     "metadata": {},
     "output_type": "execute_result"
    }
   ],
   "source": [
    "enem_redacao.groupby('TP_SEXO').max()"
   ]
  },
  {
   "cell_type": "code",
   "execution_count": 28,
   "id": "075f740d",
   "metadata": {},
   "outputs": [
    {
     "data": {
      "text/html": [
       "<div>\n",
       "<style scoped>\n",
       "    .dataframe tbody tr th:only-of-type {\n",
       "        vertical-align: middle;\n",
       "    }\n",
       "\n",
       "    .dataframe tbody tr th {\n",
       "        vertical-align: top;\n",
       "    }\n",
       "\n",
       "    .dataframe thead th {\n",
       "        text-align: right;\n",
       "    }\n",
       "</style>\n",
       "<table border=\"1\" class=\"dataframe\">\n",
       "  <thead>\n",
       "    <tr style=\"text-align: right;\">\n",
       "      <th></th>\n",
       "      <th>NU_NOTA_REDACAO</th>\n",
       "    </tr>\n",
       "    <tr>\n",
       "      <th>TP_SEXO</th>\n",
       "      <th></th>\n",
       "    </tr>\n",
       "  </thead>\n",
       "  <tbody>\n",
       "    <tr>\n",
       "      <th>F</th>\n",
       "      <td>0.0</td>\n",
       "    </tr>\n",
       "    <tr>\n",
       "      <th>M</th>\n",
       "      <td>0.0</td>\n",
       "    </tr>\n",
       "  </tbody>\n",
       "</table>\n",
       "</div>"
      ],
      "text/plain": [
       "         NU_NOTA_REDACAO\n",
       "TP_SEXO                 \n",
       "F                    0.0\n",
       "M                    0.0"
      ]
     },
     "execution_count": 28,
     "metadata": {},
     "output_type": "execute_result"
    }
   ],
   "source": [
    "enem_redacao.groupby('TP_SEXO').min()"
   ]
  },
  {
   "cell_type": "code",
   "execution_count": 29,
   "id": "f36243c6",
   "metadata": {},
   "outputs": [
    {
     "data": {
      "text/html": [
       "<div>\n",
       "<style scoped>\n",
       "    .dataframe tbody tr th:only-of-type {\n",
       "        vertical-align: middle;\n",
       "    }\n",
       "\n",
       "    .dataframe tbody tr th {\n",
       "        vertical-align: top;\n",
       "    }\n",
       "\n",
       "    .dataframe thead th {\n",
       "        text-align: right;\n",
       "    }\n",
       "</style>\n",
       "<table border=\"1\" class=\"dataframe\">\n",
       "  <thead>\n",
       "    <tr style=\"text-align: right;\">\n",
       "      <th></th>\n",
       "      <th>NU_NOTA_REDACAO</th>\n",
       "    </tr>\n",
       "    <tr>\n",
       "      <th>TP_SEXO</th>\n",
       "      <th></th>\n",
       "    </tr>\n",
       "  </thead>\n",
       "  <tbody>\n",
       "    <tr>\n",
       "      <th>F</th>\n",
       "      <td>40.0</td>\n",
       "    </tr>\n",
       "    <tr>\n",
       "      <th>M</th>\n",
       "      <td>40.0</td>\n",
       "    </tr>\n",
       "  </tbody>\n",
       "</table>\n",
       "</div>"
      ],
      "text/plain": [
       "         NU_NOTA_REDACAO\n",
       "TP_SEXO                 \n",
       "F                   40.0\n",
       "M                   40.0"
      ]
     },
     "execution_count": 29,
     "metadata": {},
     "output_type": "execute_result"
    }
   ],
   "source": [
    "enem_redacao[enem_redacao.NU_NOTA_REDACAO > 0].groupby('TP_SEXO').min()"
   ]
  },
  {
   "cell_type": "code",
   "execution_count": 30,
   "id": "6b130cc9",
   "metadata": {},
   "outputs": [
    {
     "data": {
      "text/html": [
       "<div>\n",
       "<style scoped>\n",
       "    .dataframe tbody tr th:only-of-type {\n",
       "        vertical-align: middle;\n",
       "    }\n",
       "\n",
       "    .dataframe tbody tr th {\n",
       "        vertical-align: top;\n",
       "    }\n",
       "\n",
       "    .dataframe thead th {\n",
       "        text-align: right;\n",
       "    }\n",
       "</style>\n",
       "<table border=\"1\" class=\"dataframe\">\n",
       "  <thead>\n",
       "    <tr style=\"text-align: right;\">\n",
       "      <th></th>\n",
       "      <th>NU_NOTA_REDACAO</th>\n",
       "    </tr>\n",
       "    <tr>\n",
       "      <th>TP_SEXO</th>\n",
       "      <th></th>\n",
       "    </tr>\n",
       "  </thead>\n",
       "  <tbody>\n",
       "    <tr>\n",
       "      <th>F</th>\n",
       "      <td>512.529145</td>\n",
       "    </tr>\n",
       "    <tr>\n",
       "      <th>M</th>\n",
       "      <td>503.102340</td>\n",
       "    </tr>\n",
       "  </tbody>\n",
       "</table>\n",
       "</div>"
      ],
      "text/plain": [
       "         NU_NOTA_REDACAO\n",
       "TP_SEXO                 \n",
       "F             512.529145\n",
       "M             503.102340"
      ]
     },
     "execution_count": 30,
     "metadata": {},
     "output_type": "execute_result"
    }
   ],
   "source": [
    "enem_redacao.groupby('TP_SEXO').mean()"
   ]
  },
  {
   "cell_type": "code",
   "execution_count": 31,
   "id": "34208be7",
   "metadata": {},
   "outputs": [
    {
     "data": {
      "text/html": [
       "<div>\n",
       "<style scoped>\n",
       "    .dataframe tbody tr th:only-of-type {\n",
       "        vertical-align: middle;\n",
       "    }\n",
       "\n",
       "    .dataframe tbody tr th {\n",
       "        vertical-align: top;\n",
       "    }\n",
       "\n",
       "    .dataframe thead th {\n",
       "        text-align: right;\n",
       "    }\n",
       "</style>\n",
       "<table border=\"1\" class=\"dataframe\">\n",
       "  <thead>\n",
       "    <tr style=\"text-align: right;\">\n",
       "      <th></th>\n",
       "      <th>NU_NOTA_REDACAO</th>\n",
       "    </tr>\n",
       "    <tr>\n",
       "      <th>TP_SEXO</th>\n",
       "      <th></th>\n",
       "    </tr>\n",
       "  </thead>\n",
       "  <tbody>\n",
       "    <tr>\n",
       "      <th>F</th>\n",
       "      <td>520.0</td>\n",
       "    </tr>\n",
       "    <tr>\n",
       "      <th>M</th>\n",
       "      <td>520.0</td>\n",
       "    </tr>\n",
       "  </tbody>\n",
       "</table>\n",
       "</div>"
      ],
      "text/plain": [
       "         NU_NOTA_REDACAO\n",
       "TP_SEXO                 \n",
       "F                  520.0\n",
       "M                  520.0"
      ]
     },
     "execution_count": 31,
     "metadata": {},
     "output_type": "execute_result"
    }
   ],
   "source": [
    "enem_redacao.groupby('TP_SEXO').median()"
   ]
  },
  {
   "cell_type": "code",
   "execution_count": 32,
   "id": "163dc988",
   "metadata": {},
   "outputs": [
    {
     "data": {
      "text/plain": [
       "TP_SEXO\n",
       "F    [[AxesSubplot(0.125,0.125;0.775x0.755)]]\n",
       "M    [[AxesSubplot(0.125,0.125;0.775x0.755)]]\n",
       "dtype: object"
      ]
     },
     "execution_count": 32,
     "metadata": {},
     "output_type": "execute_result"
    },
    {
     "data": {
      "image/png": "[encoded data removed]",
      "text/plain": [
       "<Figure size 432x288 with 1 Axes>"
      ]
     },
     "metadata": {
      "needs_background": "light"
     },
     "output_type": "display_data"
    },
    {
     "data": {
      "image/png": "[encoded data removed]",
      "text/plain": [
       "<Figure size 432x288 with 1 Axes>"
      ]
     },
     "metadata": {
      "needs_background": "light"
     },
     "output_type": "display_data"
    }
   ],
   "source": [
    "enem_redacao.groupby('TP_SEXO').hist()"
   ]
  },
  {
   "cell_type": "code",
   "execution_count": 33,
   "id": "2198ebfd",
   "metadata": {},
   "outputs": [
    {
     "data": {
      "text/html": [
       "<div>\n",
       "<style scoped>\n",
       "    .dataframe tbody tr th:only-of-type {\n",
       "        vertical-align: middle;\n",
       "    }\n",
       "\n",
       "    .dataframe tbody tr th {\n",
       "        vertical-align: top;\n",
       "    }\n",
       "\n",
       "    .dataframe thead tr th {\n",
       "        text-align: left;\n",
       "    }\n",
       "\n",
       "    .dataframe thead tr:last-of-type th {\n",
       "        text-align: right;\n",
       "    }\n",
       "</style>\n",
       "<table border=\"1\" class=\"dataframe\">\n",
       "  <thead>\n",
       "    <tr>\n",
       "      <th></th>\n",
       "      <th colspan=\"8\" halign=\"left\">NU_NOTA_REDACAO</th>\n",
       "    </tr>\n",
       "    <tr>\n",
       "      <th></th>\n",
       "      <th>count</th>\n",
       "      <th>mean</th>\n",
       "      <th>std</th>\n",
       "      <th>min</th>\n",
       "      <th>25%</th>\n",
       "      <th>50%</th>\n",
       "      <th>75%</th>\n",
       "      <th>max</th>\n",
       "    </tr>\n",
       "    <tr>\n",
       "      <th>TP_SEXO</th>\n",
       "      <th></th>\n",
       "      <th></th>\n",
       "      <th></th>\n",
       "      <th></th>\n",
       "      <th></th>\n",
       "      <th></th>\n",
       "      <th></th>\n",
       "      <th></th>\n",
       "    </tr>\n",
       "  </thead>\n",
       "  <tbody>\n",
       "    <tr>\n",
       "      <th>F</th>\n",
       "      <td>2454691.0</td>\n",
       "      <td>512.529145</td>\n",
       "      <td>187.440251</td>\n",
       "      <td>0.0</td>\n",
       "      <td>360.0</td>\n",
       "      <td>520.0</td>\n",
       "      <td>620.0</td>\n",
       "      <td>1000.0</td>\n",
       "    </tr>\n",
       "    <tr>\n",
       "      <th>M</th>\n",
       "      <td>1693573.0</td>\n",
       "      <td>503.102340</td>\n",
       "      <td>187.437803</td>\n",
       "      <td>0.0</td>\n",
       "      <td>360.0</td>\n",
       "      <td>520.0</td>\n",
       "      <td>620.0</td>\n",
       "      <td>1000.0</td>\n",
       "    </tr>\n",
       "  </tbody>\n",
       "</table>\n",
       "</div>"
      ],
      "text/plain": [
       "        NU_NOTA_REDACAO                                                    \\\n",
       "                  count        mean         std  min    25%    50%    75%   \n",
       "TP_SEXO                                                                     \n",
       "F             2454691.0  512.529145  187.440251  0.0  360.0  520.0  620.0   \n",
       "M             1693573.0  503.102340  187.437803  0.0  360.0  520.0  620.0   \n",
       "\n",
       "                 \n",
       "            max  \n",
       "TP_SEXO          \n",
       "F        1000.0  \n",
       "M        1000.0  "
      ]
     },
     "execution_count": 33,
     "metadata": {},
     "output_type": "execute_result"
    }
   ],
   "source": [
    "enem_redacao.groupby('TP_SEXO').describe()"
   ]
  },
  {
   "cell_type": "code",
   "execution_count": 34,
   "id": "22eacc9a",
   "metadata": {},
   "outputs": [],
   "source": [
    "colunasSelecionada2 = ['NU_INSCRICAO', 'NU_NOTA_REDACAO', 'NU_NOTA_MT', 'Q001', 'Q002']\n",
    "enem_social = dadoenem_df.filter(items=colunasSelecionada2)"
   ]
  },
  {
   "cell_type": "code",
   "execution_count": 41,
   "id": "55f6c705",
   "metadata": {
    "scrolled": true
   },
   "outputs": [
    {
     "data": {
      "text/html": [
       "<div>\n",
       "<style scoped>\n",
       "    .dataframe tbody tr th:only-of-type {\n",
       "        vertical-align: middle;\n",
       "    }\n",
       "\n",
       "    .dataframe tbody tr th {\n",
       "        vertical-align: top;\n",
       "    }\n",
       "\n",
       "    .dataframe thead th {\n",
       "        text-align: right;\n",
       "    }\n",
       "</style>\n",
       "<table border=\"1\" class=\"dataframe\">\n",
       "  <thead>\n",
       "    <tr style=\"text-align: right;\">\n",
       "      <th></th>\n",
       "      <th>NU_INSCRICAO</th>\n",
       "      <th>NU_NOTA_REDACAO</th>\n",
       "      <th>NU_NOTA_MT</th>\n",
       "      <th>Q001</th>\n",
       "      <th>Q002</th>\n",
       "    </tr>\n",
       "  </thead>\n",
       "  <tbody>\n",
       "    <tr>\n",
       "      <th>0</th>\n",
       "      <td>180008202043</td>\n",
       "      <td>NaN</td>\n",
       "      <td>NaN</td>\n",
       "      <td>A</td>\n",
       "      <td>A</td>\n",
       "    </tr>\n",
       "    <tr>\n",
       "      <th>1</th>\n",
       "      <td>180007197856</td>\n",
       "      <td>280.0</td>\n",
       "      <td>480.3</td>\n",
       "      <td>B</td>\n",
       "      <td>B</td>\n",
       "    </tr>\n",
       "    <tr>\n",
       "      <th>2</th>\n",
       "      <td>180008517434</td>\n",
       "      <td>NaN</td>\n",
       "      <td>NaN</td>\n",
       "      <td>E</td>\n",
       "      <td>E</td>\n",
       "    </tr>\n",
       "    <tr>\n",
       "      <th>3</th>\n",
       "      <td>180007661228</td>\n",
       "      <td>NaN</td>\n",
       "      <td>NaN</td>\n",
       "      <td>B</td>\n",
       "      <td>C</td>\n",
       "    </tr>\n",
       "    <tr>\n",
       "      <th>4</th>\n",
       "      <td>180008787987</td>\n",
       "      <td>360.0</td>\n",
       "      <td>NaN</td>\n",
       "      <td>C</td>\n",
       "      <td>E</td>\n",
       "    </tr>\n",
       "  </tbody>\n",
       "</table>\n",
       "</div>"
      ],
      "text/plain": [
       "   NU_INSCRICAO  NU_NOTA_REDACAO  NU_NOTA_MT Q001 Q002\n",
       "0  180008202043              NaN         NaN    A    A\n",
       "1  180007197856            280.0       480.3    B    B\n",
       "2  180008517434              NaN         NaN    E    E\n",
       "3  180007661228              NaN         NaN    B    C\n",
       "4  180008787987            360.0         NaN    C    E"
      ]
     },
     "execution_count": 41,
     "metadata": {},
     "output_type": "execute_result"
    }
   ],
   "source": [
    "enem_social.head()"
   ]
  },
  {
   "cell_type": "code",
   "execution_count": 42,
   "id": "7b9d3eb2",
   "metadata": {},
   "outputs": [],
   "source": [
    "enem_social=enem_social.dropna()"
   ]
  },
  {
   "cell_type": "code",
   "execution_count": 43,
   "id": "2820e3f5",
   "metadata": {},
   "outputs": [],
   "source": [
    "qdict = {'A':'Nunca estudou',\n",
    "'B':'Não completou a 4ª série/5º ano do Ensino Fundamental',\n",
    "'C':'Completou a 4ª série/5º ano, mas não completou a 8ª série/9º ano do Ensino Fundamental',\n",
    "'D':'Completou a 8ª série/9º ano do Ensino Fundamental, mas não completou o Ensino Médio',\n",
    "'E':'Completou o Ensino Médio, mas não completou a Faculdade',\n",
    "'F':'Completou a Faculdade, mas não completou a Pós-graduação',\n",
    "'G':'Completou a Pós-graduação',\n",
    "'H':'Não sei'}"
   ]
  },
  {
   "cell_type": "code",
   "execution_count": 44,
   "id": "bda9c5df",
   "metadata": {},
   "outputs": [],
   "source": [
    "enem_social_df = enem_social.filter(items=['NU_INSCRICAO', 'Q001']).groupby('Q001').count()"
   ]
  },
  {
   "cell_type": "code",
   "execution_count": 47,
   "id": "4325b042",
   "metadata": {
    "scrolled": true
   },
   "outputs": [
    {
     "data": {
      "text/html": [
       "<div>\n",
       "<style scoped>\n",
       "    .dataframe tbody tr th:only-of-type {\n",
       "        vertical-align: middle;\n",
       "    }\n",
       "\n",
       "    .dataframe tbody tr th {\n",
       "        vertical-align: top;\n",
       "    }\n",
       "\n",
       "    .dataframe thead th {\n",
       "        text-align: right;\n",
       "    }\n",
       "</style>\n",
       "<table border=\"1\" class=\"dataframe\">\n",
       "  <thead>\n",
       "    <tr style=\"text-align: right;\">\n",
       "      <th></th>\n",
       "      <th>NU_INSCRICAO</th>\n",
       "    </tr>\n",
       "    <tr>\n",
       "      <th>Q001</th>\n",
       "      <th></th>\n",
       "    </tr>\n",
       "  </thead>\n",
       "  <tbody>\n",
       "    <tr>\n",
       "      <th>A</th>\n",
       "      <td>200902</td>\n",
       "    </tr>\n",
       "    <tr>\n",
       "      <th>B</th>\n",
       "      <td>813670</td>\n",
       "    </tr>\n",
       "    <tr>\n",
       "      <th>C</th>\n",
       "      <td>549969</td>\n",
       "    </tr>\n",
       "    <tr>\n",
       "      <th>D</th>\n",
       "      <td>460454</td>\n",
       "    </tr>\n",
       "    <tr>\n",
       "      <th>E</th>\n",
       "      <td>1043472</td>\n",
       "    </tr>\n",
       "    <tr>\n",
       "      <th>F</th>\n",
       "      <td>311918</td>\n",
       "    </tr>\n",
       "    <tr>\n",
       "      <th>G</th>\n",
       "      <td>187705</td>\n",
       "    </tr>\n",
       "    <tr>\n",
       "      <th>H</th>\n",
       "      <td>325653</td>\n",
       "    </tr>\n",
       "  </tbody>\n",
       "</table>\n",
       "</div>"
      ],
      "text/plain": [
       "      NU_INSCRICAO\n",
       "Q001              \n",
       "A           200902\n",
       "B           813670\n",
       "C           549969\n",
       "D           460454\n",
       "E          1043472\n",
       "F           311918\n",
       "G           187705\n",
       "H           325653"
      ]
     },
     "execution_count": 47,
     "metadata": {},
     "output_type": "execute_result"
    }
   ],
   "source": [
    "enem_social_df"
   ]
  },
  {
   "cell_type": "code",
   "execution_count": 51,
   "id": "6a559f98",
   "metadata": {},
   "outputs": [],
   "source": [
    "enem_social['DESC_Q001'] = [qdict[resp] for resp in enem_social.Q001]"
   ]
  },
  {
   "cell_type": "code",
   "execution_count": 53,
   "id": "ab0bc740",
   "metadata": {},
   "outputs": [],
   "source": [
    "enem_social['DESC_Q002'] = [qdict[resp] for resp in enem_social.Q002]"
   ]
  },
  {
   "cell_type": "code",
   "execution_count": 54,
   "id": "ef17fb52",
   "metadata": {},
   "outputs": [
    {
     "data": {
      "text/html": [
       "<div>\n",
       "<style scoped>\n",
       "    .dataframe tbody tr th:only-of-type {\n",
       "        vertical-align: middle;\n",
       "    }\n",
       "\n",
       "    .dataframe tbody tr th {\n",
       "        vertical-align: top;\n",
       "    }\n",
       "\n",
       "    .dataframe thead th {\n",
       "        text-align: right;\n",
       "    }\n",
       "</style>\n",
       "<table border=\"1\" class=\"dataframe\">\n",
       "  <thead>\n",
       "    <tr style=\"text-align: right;\">\n",
       "      <th></th>\n",
       "      <th>NU_INSCRICAO</th>\n",
       "      <th>NU_NOTA_REDACAO</th>\n",
       "      <th>NU_NOTA_MT</th>\n",
       "      <th>Q001</th>\n",
       "      <th>Q002</th>\n",
       "      <th>DESC_Q001</th>\n",
       "      <th>DESC_Q002</th>\n",
       "    </tr>\n",
       "  </thead>\n",
       "  <tbody>\n",
       "    <tr>\n",
       "      <th>1</th>\n",
       "      <td>180007197856</td>\n",
       "      <td>280.0</td>\n",
       "      <td>480.3</td>\n",
       "      <td>B</td>\n",
       "      <td>B</td>\n",
       "      <td>Não completou a 4ª série/5º ano do Ensino Fund...</td>\n",
       "      <td>Não completou a 4ª série/5º ano do Ensino Fund...</td>\n",
       "    </tr>\n",
       "    <tr>\n",
       "      <th>5</th>\n",
       "      <td>180007239581</td>\n",
       "      <td>580.0</td>\n",
       "      <td>538.8</td>\n",
       "      <td>C</td>\n",
       "      <td>D</td>\n",
       "      <td>Completou a 4ª série/5º ano, mas não completou...</td>\n",
       "      <td>Completou a 8ª série/9º ano do Ensino Fundamen...</td>\n",
       "    </tr>\n",
       "    <tr>\n",
       "      <th>7</th>\n",
       "      <td>180008090447</td>\n",
       "      <td>680.0</td>\n",
       "      <td>733.8</td>\n",
       "      <td>A</td>\n",
       "      <td>E</td>\n",
       "      <td>Nunca estudou</td>\n",
       "      <td>Completou o Ensino Médio, mas não completou a ...</td>\n",
       "    </tr>\n",
       "    <tr>\n",
       "      <th>8</th>\n",
       "      <td>180008257068</td>\n",
       "      <td>340.0</td>\n",
       "      <td>459.0</td>\n",
       "      <td>D</td>\n",
       "      <td>D</td>\n",
       "      <td>Completou a 8ª série/9º ano do Ensino Fundamen...</td>\n",
       "      <td>Completou a 8ª série/9º ano do Ensino Fundamen...</td>\n",
       "    </tr>\n",
       "    <tr>\n",
       "      <th>9</th>\n",
       "      <td>180008202044</td>\n",
       "      <td>740.0</td>\n",
       "      <td>525.4</td>\n",
       "      <td>C</td>\n",
       "      <td>C</td>\n",
       "      <td>Completou a 4ª série/5º ano, mas não completou...</td>\n",
       "      <td>Completou a 4ª série/5º ano, mas não completou...</td>\n",
       "    </tr>\n",
       "  </tbody>\n",
       "</table>\n",
       "</div>"
      ],
      "text/plain": [
       "   NU_INSCRICAO  NU_NOTA_REDACAO  NU_NOTA_MT Q001 Q002  \\\n",
       "1  180007197856            280.0       480.3    B    B   \n",
       "5  180007239581            580.0       538.8    C    D   \n",
       "7  180008090447            680.0       733.8    A    E   \n",
       "8  180008257068            340.0       459.0    D    D   \n",
       "9  180008202044            740.0       525.4    C    C   \n",
       "\n",
       "                                           DESC_Q001  \\\n",
       "1  Não completou a 4ª série/5º ano do Ensino Fund...   \n",
       "5  Completou a 4ª série/5º ano, mas não completou...   \n",
       "7                                      Nunca estudou   \n",
       "8  Completou a 8ª série/9º ano do Ensino Fundamen...   \n",
       "9  Completou a 4ª série/5º ano, mas não completou...   \n",
       "\n",
       "                                           DESC_Q002  \n",
       "1  Não completou a 4ª série/5º ano do Ensino Fund...  \n",
       "5  Completou a 8ª série/9º ano do Ensino Fundamen...  \n",
       "7  Completou o Ensino Médio, mas não completou a ...  \n",
       "8  Completou a 8ª série/9º ano do Ensino Fundamen...  \n",
       "9  Completou a 4ª série/5º ano, mas não completou...  "
      ]
     },
     "execution_count": 54,
     "metadata": {},
     "output_type": "execute_result"
    }
   ],
   "source": [
    "enem_social.head()"
   ]
  },
  {
   "cell_type": "code",
   "execution_count": 64,
   "id": "2f4ffc6c",
   "metadata": {},
   "outputs": [],
   "source": [
    "enem_social_pai = enem_social.filter(items=['NU_INSCRICAO', 'DESC_Q001']).groupby('DESC_Q001').count().sort_values(by='NU_INSCRICAO', ascending=False)"
   ]
  },
  {
   "cell_type": "code",
   "execution_count": 65,
   "id": "7e1840ad",
   "metadata": {},
   "outputs": [
    {
     "data": {
      "text/html": [
       "<div>\n",
       "<style scoped>\n",
       "    .dataframe tbody tr th:only-of-type {\n",
       "        vertical-align: middle;\n",
       "    }\n",
       "\n",
       "    .dataframe tbody tr th {\n",
       "        vertical-align: top;\n",
       "    }\n",
       "\n",
       "    .dataframe thead th {\n",
       "        text-align: right;\n",
       "    }\n",
       "</style>\n",
       "<table border=\"1\" class=\"dataframe\">\n",
       "  <thead>\n",
       "    <tr style=\"text-align: right;\">\n",
       "      <th></th>\n",
       "      <th>NU_INSCRICAO</th>\n",
       "    </tr>\n",
       "    <tr>\n",
       "      <th>DESC_Q001</th>\n",
       "      <th></th>\n",
       "    </tr>\n",
       "  </thead>\n",
       "  <tbody>\n",
       "    <tr>\n",
       "      <th>Completou o Ensino Médio, mas não completou a Faculdade</th>\n",
       "      <td>1043472</td>\n",
       "    </tr>\n",
       "    <tr>\n",
       "      <th>Não completou a 4ª série/5º ano do Ensino Fundamental</th>\n",
       "      <td>813670</td>\n",
       "    </tr>\n",
       "    <tr>\n",
       "      <th>Completou a 4ª série/5º ano, mas não completou a 8ª série/9º ano do Ensino Fundamental</th>\n",
       "      <td>549969</td>\n",
       "    </tr>\n",
       "    <tr>\n",
       "      <th>Completou a 8ª série/9º ano do Ensino Fundamental, mas não completou o Ensino Médio</th>\n",
       "      <td>460454</td>\n",
       "    </tr>\n",
       "    <tr>\n",
       "      <th>Não sei</th>\n",
       "      <td>325653</td>\n",
       "    </tr>\n",
       "    <tr>\n",
       "      <th>Completou a Faculdade, mas não completou a Pós-graduação</th>\n",
       "      <td>311918</td>\n",
       "    </tr>\n",
       "    <tr>\n",
       "      <th>Nunca estudou</th>\n",
       "      <td>200902</td>\n",
       "    </tr>\n",
       "    <tr>\n",
       "      <th>Completou a Pós-graduação</th>\n",
       "      <td>187705</td>\n",
       "    </tr>\n",
       "  </tbody>\n",
       "</table>\n",
       "</div>"
      ],
      "text/plain": [
       "                                                    NU_INSCRICAO\n",
       "DESC_Q001                                                       \n",
       "Completou o Ensino Médio, mas não completou a F...       1043472\n",
       "Não completou a 4ª série/5º ano do Ensino Funda...        813670\n",
       "Completou a 4ª série/5º ano, mas não completou ...        549969\n",
       "Completou a 8ª série/9º ano do Ensino Fundament...        460454\n",
       "Não sei                                                   325653\n",
       "Completou a Faculdade, mas não completou a Pós-...        311918\n",
       "Nunca estudou                                             200902\n",
       "Completou a Pós-graduação                                 187705"
      ]
     },
     "execution_count": 65,
     "metadata": {},
     "output_type": "execute_result"
    }
   ],
   "source": [
    "enem_social_pai"
   ]
  },
  {
   "cell_type": "code",
   "execution_count": 66,
   "id": "02bc14ea",
   "metadata": {},
   "outputs": [],
   "source": [
    "enem_social_mae = enem_social.filter(items=['NU_INSCRICAO', 'DESC_Q002']).groupby('DESC_Q002').count().sort_values(by='NU_INSCRICAO', ascending=False)"
   ]
  },
  {
   "cell_type": "code",
   "execution_count": 67,
   "id": "85c14a63",
   "metadata": {},
   "outputs": [
    {
     "data": {
      "text/html": [
       "<div>\n",
       "<style scoped>\n",
       "    .dataframe tbody tr th:only-of-type {\n",
       "        vertical-align: middle;\n",
       "    }\n",
       "\n",
       "    .dataframe tbody tr th {\n",
       "        vertical-align: top;\n",
       "    }\n",
       "\n",
       "    .dataframe thead th {\n",
       "        text-align: right;\n",
       "    }\n",
       "</style>\n",
       "<table border=\"1\" class=\"dataframe\">\n",
       "  <thead>\n",
       "    <tr style=\"text-align: right;\">\n",
       "      <th></th>\n",
       "      <th>NU_INSCRICAO</th>\n",
       "    </tr>\n",
       "    <tr>\n",
       "      <th>DESC_Q002</th>\n",
       "      <th></th>\n",
       "    </tr>\n",
       "  </thead>\n",
       "  <tbody>\n",
       "    <tr>\n",
       "      <th>Completou o Ensino Médio, mas não completou a Faculdade</th>\n",
       "      <td>1275076</td>\n",
       "    </tr>\n",
       "    <tr>\n",
       "      <th>Não completou a 4ª série/5º ano do Ensino Fundamental</th>\n",
       "      <td>606702</td>\n",
       "    </tr>\n",
       "    <tr>\n",
       "      <th>Completou a 4ª série/5º ano, mas não completou a 8ª série/9º ano do Ensino Fundamental</th>\n",
       "      <td>515982</td>\n",
       "    </tr>\n",
       "    <tr>\n",
       "      <th>Completou a 8ª série/9º ano do Ensino Fundamental, mas não completou o Ensino Médio</th>\n",
       "      <td>509545</td>\n",
       "    </tr>\n",
       "    <tr>\n",
       "      <th>Completou a Faculdade, mas não completou a Pós-graduação</th>\n",
       "      <td>417225</td>\n",
       "    </tr>\n",
       "    <tr>\n",
       "      <th>Completou a Pós-graduação</th>\n",
       "      <td>322696</td>\n",
       "    </tr>\n",
       "    <tr>\n",
       "      <th>Nunca estudou</th>\n",
       "      <td>136414</td>\n",
       "    </tr>\n",
       "    <tr>\n",
       "      <th>Não sei</th>\n",
       "      <td>110103</td>\n",
       "    </tr>\n",
       "  </tbody>\n",
       "</table>\n",
       "</div>"
      ],
      "text/plain": [
       "                                                    NU_INSCRICAO\n",
       "DESC_Q002                                                       \n",
       "Completou o Ensino Médio, mas não completou a F...       1275076\n",
       "Não completou a 4ª série/5º ano do Ensino Funda...        606702\n",
       "Completou a 4ª série/5º ano, mas não completou ...        515982\n",
       "Completou a 8ª série/9º ano do Ensino Fundament...        509545\n",
       "Completou a Faculdade, mas não completou a Pós-...        417225\n",
       "Completou a Pós-graduação                                 322696\n",
       "Nunca estudou                                             136414\n",
       "Não sei                                                   110103"
      ]
     },
     "execution_count": 67,
     "metadata": {},
     "output_type": "execute_result"
    }
   ],
   "source": [
    "enem_social_mae"
   ]
  },
  {
   "cell_type": "code",
   "execution_count": 72,
   "id": "9afea7c5",
   "metadata": {},
   "outputs": [],
   "source": [
    "matematica_mae = enem_social.filter(items=['NU_NOTA_MT', 'DESC_Q002']).groupby('DESC_Q002').mean().sort_values(by='NU_NOTA_MT', ascending=False)"
   ]
  },
  {
   "cell_type": "code",
   "execution_count": 73,
   "id": "bf15dde3",
   "metadata": {},
   "outputs": [
    {
     "data": {
      "text/html": [
       "<div>\n",
       "<style scoped>\n",
       "    .dataframe tbody tr th:only-of-type {\n",
       "        vertical-align: middle;\n",
       "    }\n",
       "\n",
       "    .dataframe tbody tr th {\n",
       "        vertical-align: top;\n",
       "    }\n",
       "\n",
       "    .dataframe thead th {\n",
       "        text-align: right;\n",
       "    }\n",
       "</style>\n",
       "<table border=\"1\" class=\"dataframe\">\n",
       "  <thead>\n",
       "    <tr style=\"text-align: right;\">\n",
       "      <th></th>\n",
       "      <th>NU_NOTA_MT</th>\n",
       "    </tr>\n",
       "    <tr>\n",
       "      <th>DESC_Q002</th>\n",
       "      <th></th>\n",
       "    </tr>\n",
       "  </thead>\n",
       "  <tbody>\n",
       "    <tr>\n",
       "      <th>Completou a Pós-graduação</th>\n",
       "      <td>604.646114</td>\n",
       "    </tr>\n",
       "    <tr>\n",
       "      <th>Completou a Faculdade, mas não completou a Pós-graduação</th>\n",
       "      <td>591.438424</td>\n",
       "    </tr>\n",
       "    <tr>\n",
       "      <th>Completou o Ensino Médio, mas não completou a Faculdade</th>\n",
       "      <td>541.991564</td>\n",
       "    </tr>\n",
       "    <tr>\n",
       "      <th>Completou a 8ª série/9º ano do Ensino Fundamental, mas não completou o Ensino Médio</th>\n",
       "      <td>521.292757</td>\n",
       "    </tr>\n",
       "    <tr>\n",
       "      <th>Completou a 4ª série/5º ano, mas não completou a 8ª série/9º ano do Ensino Fundamental</th>\n",
       "      <td>512.046346</td>\n",
       "    </tr>\n",
       "    <tr>\n",
       "      <th>Não sei</th>\n",
       "      <td>504.112213</td>\n",
       "    </tr>\n",
       "    <tr>\n",
       "      <th>Não completou a 4ª série/5º ano do Ensino Fundamental</th>\n",
       "      <td>497.003174</td>\n",
       "    </tr>\n",
       "    <tr>\n",
       "      <th>Nunca estudou</th>\n",
       "      <td>478.218055</td>\n",
       "    </tr>\n",
       "  </tbody>\n",
       "</table>\n",
       "</div>"
      ],
      "text/plain": [
       "                                                    NU_NOTA_MT\n",
       "DESC_Q002                                                     \n",
       "Completou a Pós-graduação                           604.646114\n",
       "Completou a Faculdade, mas não completou a Pós-...  591.438424\n",
       "Completou o Ensino Médio, mas não completou a F...  541.991564\n",
       "Completou a 8ª série/9º ano do Ensino Fundament...  521.292757\n",
       "Completou a 4ª série/5º ano, mas não completou ...  512.046346\n",
       "Não sei                                             504.112213\n",
       "Não completou a 4ª série/5º ano do Ensino Funda...  497.003174\n",
       "Nunca estudou                                       478.218055"
      ]
     },
     "execution_count": 73,
     "metadata": {},
     "output_type": "execute_result"
    }
   ],
   "source": [
    "matematica_mae"
   ]
  },
  {
   "cell_type": "code",
   "execution_count": 74,
   "id": "3b011c4b",
   "metadata": {},
   "outputs": [],
   "source": [
    "matematica_pai = enem_social.filter(items=['NU_NOTA_MT', 'DESC_Q001']).groupby('DESC_Q001').mean().sort_values(by='NU_NOTA_MT', ascending=False)"
   ]
  },
  {
   "cell_type": "code",
   "execution_count": 75,
   "id": "52c741af",
   "metadata": {},
   "outputs": [
    {
     "data": {
      "text/html": [
       "<div>\n",
       "<style scoped>\n",
       "    .dataframe tbody tr th:only-of-type {\n",
       "        vertical-align: middle;\n",
       "    }\n",
       "\n",
       "    .dataframe tbody tr th {\n",
       "        vertical-align: top;\n",
       "    }\n",
       "\n",
       "    .dataframe thead th {\n",
       "        text-align: right;\n",
       "    }\n",
       "</style>\n",
       "<table border=\"1\" class=\"dataframe\">\n",
       "  <thead>\n",
       "    <tr style=\"text-align: right;\">\n",
       "      <th></th>\n",
       "      <th>NU_NOTA_MT</th>\n",
       "    </tr>\n",
       "    <tr>\n",
       "      <th>DESC_Q001</th>\n",
       "      <th></th>\n",
       "    </tr>\n",
       "  </thead>\n",
       "  <tbody>\n",
       "    <tr>\n",
       "      <th>Completou a Pós-graduação</th>\n",
       "      <td>628.857128</td>\n",
       "    </tr>\n",
       "    <tr>\n",
       "      <th>Completou a Faculdade, mas não completou a Pós-graduação</th>\n",
       "      <td>606.911985</td>\n",
       "    </tr>\n",
       "    <tr>\n",
       "      <th>Completou o Ensino Médio, mas não completou a Faculdade</th>\n",
       "      <td>550.922641</td>\n",
       "    </tr>\n",
       "    <tr>\n",
       "      <th>Completou a 8ª série/9º ano do Ensino Fundamental, mas não completou o Ensino Médio</th>\n",
       "      <td>530.540300</td>\n",
       "    </tr>\n",
       "    <tr>\n",
       "      <th>Completou a 4ª série/5º ano, mas não completou a 8ª série/9º ano do Ensino Fundamental</th>\n",
       "      <td>519.450349</td>\n",
       "    </tr>\n",
       "    <tr>\n",
       "      <th>Não sei</th>\n",
       "      <td>512.678252</td>\n",
       "    </tr>\n",
       "    <tr>\n",
       "      <th>Não completou a 4ª série/5º ano do Ensino Fundamental</th>\n",
       "      <td>502.412921</td>\n",
       "    </tr>\n",
       "    <tr>\n",
       "      <th>Nunca estudou</th>\n",
       "      <td>483.412209</td>\n",
       "    </tr>\n",
       "  </tbody>\n",
       "</table>\n",
       "</div>"
      ],
      "text/plain": [
       "                                                    NU_NOTA_MT\n",
       "DESC_Q001                                                     \n",
       "Completou a Pós-graduação                           628.857128\n",
       "Completou a Faculdade, mas não completou a Pós-...  606.911985\n",
       "Completou o Ensino Médio, mas não completou a F...  550.922641\n",
       "Completou a 8ª série/9º ano do Ensino Fundament...  530.540300\n",
       "Completou a 4ª série/5º ano, mas não completou ...  519.450349\n",
       "Não sei                                             512.678252\n",
       "Não completou a 4ª série/5º ano do Ensino Funda...  502.412921\n",
       "Nunca estudou                                       483.412209"
      ]
     },
     "execution_count": 75,
     "metadata": {},
     "output_type": "execute_result"
    }
   ],
   "source": [
    "matematica_pai "
   ]
  },
  {
   "cell_type": "code",
   "execution_count": 76,
   "id": "622dad68",
   "metadata": {},
   "outputs": [],
   "source": [
    "redacao_pai = enem_social.filter(items=['NU_NOTA_REDACAO', 'DESC_Q001']).groupby('DESC_Q001').mean().sort_values(by='NU_NOTA_REDACAO', ascending=False)"
   ]
  },
  {
   "cell_type": "code",
   "execution_count": 77,
   "id": "8f307c5a",
   "metadata": {},
   "outputs": [
    {
     "data": {
      "text/html": [
       "<div>\n",
       "<style scoped>\n",
       "    .dataframe tbody tr th:only-of-type {\n",
       "        vertical-align: middle;\n",
       "    }\n",
       "\n",
       "    .dataframe tbody tr th {\n",
       "        vertical-align: top;\n",
       "    }\n",
       "\n",
       "    .dataframe thead th {\n",
       "        text-align: right;\n",
       "    }\n",
       "</style>\n",
       "<table border=\"1\" class=\"dataframe\">\n",
       "  <thead>\n",
       "    <tr style=\"text-align: right;\">\n",
       "      <th></th>\n",
       "      <th>NU_NOTA_REDACAO</th>\n",
       "    </tr>\n",
       "    <tr>\n",
       "      <th>DESC_Q001</th>\n",
       "      <th></th>\n",
       "    </tr>\n",
       "  </thead>\n",
       "  <tbody>\n",
       "    <tr>\n",
       "      <th>Completou a Pós-graduação</th>\n",
       "      <td>652.213740</td>\n",
       "    </tr>\n",
       "    <tr>\n",
       "      <th>Completou a Faculdade, mas não completou a Pós-graduação</th>\n",
       "      <td>622.431152</td>\n",
       "    </tr>\n",
       "    <tr>\n",
       "      <th>Completou o Ensino Médio, mas não completou a Faculdade</th>\n",
       "      <td>544.272256</td>\n",
       "    </tr>\n",
       "    <tr>\n",
       "      <th>Completou a 8ª série/9º ano do Ensino Fundamental, mas não completou o Ensino Médio</th>\n",
       "      <td>511.711832</td>\n",
       "    </tr>\n",
       "    <tr>\n",
       "      <th>Completou a 4ª série/5º ano, mas não completou a 8ª série/9º ano do Ensino Fundamental</th>\n",
       "      <td>492.834723</td>\n",
       "    </tr>\n",
       "    <tr>\n",
       "      <th>Não sei</th>\n",
       "      <td>474.284161</td>\n",
       "    </tr>\n",
       "    <tr>\n",
       "      <th>Não completou a 4ª série/5º ano do Ensino Fundamental</th>\n",
       "      <td>464.490076</td>\n",
       "    </tr>\n",
       "    <tr>\n",
       "      <th>Nunca estudou</th>\n",
       "      <td>427.263044</td>\n",
       "    </tr>\n",
       "  </tbody>\n",
       "</table>\n",
       "</div>"
      ],
      "text/plain": [
       "                                                    NU_NOTA_REDACAO\n",
       "DESC_Q001                                                          \n",
       "Completou a Pós-graduação                                652.213740\n",
       "Completou a Faculdade, mas não completou a Pós-...       622.431152\n",
       "Completou o Ensino Médio, mas não completou a F...       544.272256\n",
       "Completou a 8ª série/9º ano do Ensino Fundament...       511.711832\n",
       "Completou a 4ª série/5º ano, mas não completou ...       492.834723\n",
       "Não sei                                                  474.284161\n",
       "Não completou a 4ª série/5º ano do Ensino Funda...       464.490076\n",
       "Nunca estudou                                            427.263044"
      ]
     },
     "execution_count": 77,
     "metadata": {},
     "output_type": "execute_result"
    }
   ],
   "source": [
    "redacao_pai"
   ]
  },
  {
   "cell_type": "code",
   "execution_count": 80,
   "id": "f83acb14",
   "metadata": {},
   "outputs": [],
   "source": [
    "redacao_mae = enem_social.filter(items=['NU_NOTA_REDACAO', 'DESC_Q002']).groupby('DESC_Q002').mean().sort_values(by='NU_NOTA_REDACAO', ascending=False)"
   ]
  },
  {
   "cell_type": "code",
   "execution_count": 81,
   "id": "fc87ea8c",
   "metadata": {},
   "outputs": [
    {
     "data": {
      "text/html": [
       "<div>\n",
       "<style scoped>\n",
       "    .dataframe tbody tr th:only-of-type {\n",
       "        vertical-align: middle;\n",
       "    }\n",
       "\n",
       "    .dataframe tbody tr th {\n",
       "        vertical-align: top;\n",
       "    }\n",
       "\n",
       "    .dataframe thead th {\n",
       "        text-align: right;\n",
       "    }\n",
       "</style>\n",
       "<table border=\"1\" class=\"dataframe\">\n",
       "  <thead>\n",
       "    <tr style=\"text-align: right;\">\n",
       "      <th></th>\n",
       "      <th>NU_NOTA_REDACAO</th>\n",
       "    </tr>\n",
       "    <tr>\n",
       "      <th>DESC_Q002</th>\n",
       "      <th></th>\n",
       "    </tr>\n",
       "  </thead>\n",
       "  <tbody>\n",
       "    <tr>\n",
       "      <th>Completou a Pós-graduação</th>\n",
       "      <td>622.780760</td>\n",
       "    </tr>\n",
       "    <tr>\n",
       "      <th>Completou a Faculdade, mas não completou a Pós-graduação</th>\n",
       "      <td>601.241249</td>\n",
       "    </tr>\n",
       "    <tr>\n",
       "      <th>Completou o Ensino Médio, mas não completou a Faculdade</th>\n",
       "      <td>530.016015</td>\n",
       "    </tr>\n",
       "    <tr>\n",
       "      <th>Completou a 8ª série/9º ano do Ensino Fundamental, mas não completou o Ensino Médio</th>\n",
       "      <td>495.963850</td>\n",
       "    </tr>\n",
       "    <tr>\n",
       "      <th>Completou a 4ª série/5º ano, mas não completou a 8ª série/9º ano do Ensino Fundamental</th>\n",
       "      <td>479.675260</td>\n",
       "    </tr>\n",
       "    <tr>\n",
       "      <th>Não completou a 4ª série/5º ano do Ensino Fundamental</th>\n",
       "      <td>454.591612</td>\n",
       "    </tr>\n",
       "    <tr>\n",
       "      <th>Não sei</th>\n",
       "      <td>447.204163</td>\n",
       "    </tr>\n",
       "    <tr>\n",
       "      <th>Nunca estudou</th>\n",
       "      <td>414.232410</td>\n",
       "    </tr>\n",
       "  </tbody>\n",
       "</table>\n",
       "</div>"
      ],
      "text/plain": [
       "                                                    NU_NOTA_REDACAO\n",
       "DESC_Q002                                                          \n",
       "Completou a Pós-graduação                                622.780760\n",
       "Completou a Faculdade, mas não completou a Pós-...       601.241249\n",
       "Completou o Ensino Médio, mas não completou a F...       530.016015\n",
       "Completou a 8ª série/9º ano do Ensino Fundament...       495.963850\n",
       "Completou a 4ª série/5º ano, mas não completou ...       479.675260\n",
       "Não completou a 4ª série/5º ano do Ensino Funda...       454.591612\n",
       "Não sei                                                  447.204163\n",
       "Nunca estudou                                            414.232410"
      ]
     },
     "execution_count": 81,
     "metadata": {},
     "output_type": "execute_result"
    }
   ],
   "source": [
    "redacao_mae"
   ]
  },
  {
   "cell_type": "code",
   "execution_count": 82,
   "id": "8060f445",
   "metadata": {},
   "outputs": [
    {
     "data": {
      "text/plain": [
       "<AxesSubplot:xlabel='DESC_Q002'>"
      ]
     },
     "execution_count": 82,
     "metadata": {},
     "output_type": "execute_result"
    },
    {
     "data": {
      "image/png": "[encoded data removed]",
      "text/plain": [
       "<Figure size 432x288 with 1 Axes>"
      ]
     },
     "metadata": {
      "needs_background": "light"
     },
     "output_type": "display_data"
    }
   ],
   "source": [
    "redacao_mae.plot()"
   ]
  },
  {
   "cell_type": "code",
   "execution_count": 83,
   "id": "24c1f852",
   "metadata": {},
   "outputs": [
    {
     "data": {
      "text/html": [
       "<div>\n",
       "<style scoped>\n",
       "    .dataframe tbody tr th:only-of-type {\n",
       "        vertical-align: middle;\n",
       "    }\n",
       "\n",
       "    .dataframe tbody tr th {\n",
       "        vertical-align: top;\n",
       "    }\n",
       "\n",
       "    .dataframe thead th {\n",
       "        text-align: right;\n",
       "    }\n",
       "</style>\n",
       "<table border=\"1\" class=\"dataframe\">\n",
       "  <thead>\n",
       "    <tr style=\"text-align: right;\">\n",
       "      <th></th>\n",
       "      <th>NU_NOTA_REDACAO</th>\n",
       "    </tr>\n",
       "  </thead>\n",
       "  <tbody>\n",
       "    <tr>\n",
       "      <th>count</th>\n",
       "      <td>8.000000</td>\n",
       "    </tr>\n",
       "    <tr>\n",
       "      <th>mean</th>\n",
       "      <td>505.713165</td>\n",
       "    </tr>\n",
       "    <tr>\n",
       "      <th>std</th>\n",
       "      <td>74.257786</td>\n",
       "    </tr>\n",
       "    <tr>\n",
       "      <th>min</th>\n",
       "      <td>414.232410</td>\n",
       "    </tr>\n",
       "    <tr>\n",
       "      <th>25%</th>\n",
       "      <td>452.744750</td>\n",
       "    </tr>\n",
       "    <tr>\n",
       "      <th>50%</th>\n",
       "      <td>487.819555</td>\n",
       "    </tr>\n",
       "    <tr>\n",
       "      <th>75%</th>\n",
       "      <td>547.822323</td>\n",
       "    </tr>\n",
       "    <tr>\n",
       "      <th>max</th>\n",
       "      <td>622.780760</td>\n",
       "    </tr>\n",
       "  </tbody>\n",
       "</table>\n",
       "</div>"
      ],
      "text/plain": [
       "       NU_NOTA_REDACAO\n",
       "count         8.000000\n",
       "mean        505.713165\n",
       "std          74.257786\n",
       "min         414.232410\n",
       "25%         452.744750\n",
       "50%         487.819555\n",
       "75%         547.822323\n",
       "max         622.780760"
      ]
     },
     "execution_count": 83,
     "metadata": {},
     "output_type": "execute_result"
    }
   ],
   "source": [
    "redacao_mae.describe()"
   ]
  },
  {
   "cell_type": "code",
   "execution_count": null,
   "id": "25088786",
   "metadata": {},
   "outputs": [],
   "source": []
  }
 ],
 "metadata": {
  "kernelspec": {
   "display_name": "Python 3 (ipykernel)",
   "language": "python",
   "name": "python3"
  },
  "language_info": {
   "codemirror_mode": {
    "name": "ipython",
    "version": 3
   },
   "file_extension": ".py",
   "mimetype": "text/x-python",
   "name": "python",
   "nbconvert_exporter": "python",
   "pygments_lexer": "ipython3",
   "version": "3.9.7"
  }
 },
 "nbformat": 4,
 "nbformat_minor": 5
}
