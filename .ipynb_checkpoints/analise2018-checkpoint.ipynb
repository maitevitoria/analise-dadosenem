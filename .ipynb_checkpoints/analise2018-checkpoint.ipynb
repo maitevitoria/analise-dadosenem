{
 "cells": [
  {
   "cell_type": "markdown",
   "id": "3798b53d",
   "metadata": {},
   "source": [
    "## Análise de Microdados ENEM"
   ]
  },
  {
   "cell_type": "code",
   "execution_count": 1,
   "id": "1b9485ac",
   "metadata": {},
   "outputs": [],
   "source": [
    "import pandas as pd\n",
    "import matplotlib"
   ]
  },
  {
   "cell_type": "code",
   "execution_count": 2,
   "id": "c93de54c",
   "metadata": {},
   "outputs": [],
   "source": [
    "colunas = ['NU_INSCRICAO','NO_MUNICIPIO_RESIDENCIA', 'CO_UF_RESIDENCIA', 'SG_UF_RESIDENCIA',\n",
    "       'NU_IDADE', 'TP_SEXO','TP_COR_RACA','TP_NACIONALIDADE','IN_GESTANTE', 'NU_NOTA_REDACAO', 'NU_NOTA_MT', 'Q001', 'Q002']"
   ]
  },
  {
   "cell_type": "code",
   "execution_count": 3,
   "id": "fddd589d",
   "metadata": {},
   "outputs": [
    {
     "ename": "FileNotFoundError",
     "evalue": "[Errno 2] No such file or directory: 'brutos/microdados_enem2018/DADOS/MICRODADOS_ENEM_2018.csv'",
     "output_type": "error",
     "traceback": [
      "\u001b[0;31m---------------------------------------------------------------------------\u001b[0m",
      "\u001b[0;31mFileNotFoundError\u001b[0m                         Traceback (most recent call last)",
      "\u001b[0;32m/var/folders/kt/31q22mgj6v926d5t98wwmfb40000gn/T/ipykernel_7850/585336366.py\u001b[0m in \u001b[0;36m<module>\u001b[0;34m\u001b[0m\n\u001b[0;32m----> 1\u001b[0;31m \u001b[0mdadoenem_df\u001b[0m \u001b[0;34m=\u001b[0m \u001b[0mpd\u001b[0m\u001b[0;34m.\u001b[0m\u001b[0mread_csv\u001b[0m\u001b[0;34m(\u001b[0m\u001b[0;34m'brutos/microdados_enem2018/DADOS/MICRODADOS_ENEM_2018.csv'\u001b[0m\u001b[0;34m,\u001b[0m \u001b[0msep\u001b[0m\u001b[0;34m=\u001b[0m\u001b[0;34m';'\u001b[0m\u001b[0;34m,\u001b[0m \u001b[0mencoding\u001b[0m\u001b[0;34m=\u001b[0m\u001b[0;34m'iso-8859-1'\u001b[0m\u001b[0;34m,\u001b[0m \u001b[0musecols\u001b[0m\u001b[0;34m=\u001b[0m\u001b[0mcolunas\u001b[0m\u001b[0;34m)\u001b[0m\u001b[0;34m\u001b[0m\u001b[0;34m\u001b[0m\u001b[0m\n\u001b[0m",
      "\u001b[0;32m~/opt/anaconda3/lib/python3.9/site-packages/pandas/util/_decorators.py\u001b[0m in \u001b[0;36mwrapper\u001b[0;34m(*args, **kwargs)\u001b[0m\n\u001b[1;32m    309\u001b[0m                     \u001b[0mstacklevel\u001b[0m\u001b[0;34m=\u001b[0m\u001b[0mstacklevel\u001b[0m\u001b[0;34m,\u001b[0m\u001b[0;34m\u001b[0m\u001b[0;34m\u001b[0m\u001b[0m\n\u001b[1;32m    310\u001b[0m                 )\n\u001b[0;32m--> 311\u001b[0;31m             \u001b[0;32mreturn\u001b[0m \u001b[0mfunc\u001b[0m\u001b[0;34m(\u001b[0m\u001b[0;34m*\u001b[0m\u001b[0margs\u001b[0m\u001b[0;34m,\u001b[0m \u001b[0;34m**\u001b[0m\u001b[0mkwargs\u001b[0m\u001b[0;34m)\u001b[0m\u001b[0;34m\u001b[0m\u001b[0;34m\u001b[0m\u001b[0m\n\u001b[0m\u001b[1;32m    312\u001b[0m \u001b[0;34m\u001b[0m\u001b[0m\n\u001b[1;32m    313\u001b[0m         \u001b[0;32mreturn\u001b[0m \u001b[0mwrapper\u001b[0m\u001b[0;34m\u001b[0m\u001b[0;34m\u001b[0m\u001b[0m\n",
      "\u001b[0;32m~/opt/anaconda3/lib/python3.9/site-packages/pandas/io/parsers/readers.py\u001b[0m in \u001b[0;36mread_csv\u001b[0;34m(filepath_or_buffer, sep, delimiter, header, names, index_col, usecols, squeeze, prefix, mangle_dupe_cols, dtype, engine, converters, true_values, false_values, skipinitialspace, skiprows, skipfooter, nrows, na_values, keep_default_na, na_filter, verbose, skip_blank_lines, parse_dates, infer_datetime_format, keep_date_col, date_parser, dayfirst, cache_dates, iterator, chunksize, compression, thousands, decimal, lineterminator, quotechar, quoting, doublequote, escapechar, comment, encoding, encoding_errors, dialect, error_bad_lines, warn_bad_lines, on_bad_lines, delim_whitespace, low_memory, memory_map, float_precision, storage_options)\u001b[0m\n\u001b[1;32m    584\u001b[0m     \u001b[0mkwds\u001b[0m\u001b[0;34m.\u001b[0m\u001b[0mupdate\u001b[0m\u001b[0;34m(\u001b[0m\u001b[0mkwds_defaults\u001b[0m\u001b[0;34m)\u001b[0m\u001b[0;34m\u001b[0m\u001b[0;34m\u001b[0m\u001b[0m\n\u001b[1;32m    585\u001b[0m \u001b[0;34m\u001b[0m\u001b[0m\n\u001b[0;32m--> 586\u001b[0;31m     \u001b[0;32mreturn\u001b[0m \u001b[0m_read\u001b[0m\u001b[0;34m(\u001b[0m\u001b[0mfilepath_or_buffer\u001b[0m\u001b[0;34m,\u001b[0m \u001b[0mkwds\u001b[0m\u001b[0;34m)\u001b[0m\u001b[0;34m\u001b[0m\u001b[0;34m\u001b[0m\u001b[0m\n\u001b[0m\u001b[1;32m    587\u001b[0m \u001b[0;34m\u001b[0m\u001b[0m\n\u001b[1;32m    588\u001b[0m \u001b[0;34m\u001b[0m\u001b[0m\n",
      "\u001b[0;32m~/opt/anaconda3/lib/python3.9/site-packages/pandas/io/parsers/readers.py\u001b[0m in \u001b[0;36m_read\u001b[0;34m(filepath_or_buffer, kwds)\u001b[0m\n\u001b[1;32m    480\u001b[0m \u001b[0;34m\u001b[0m\u001b[0m\n\u001b[1;32m    481\u001b[0m     \u001b[0;31m# Create the parser.\u001b[0m\u001b[0;34m\u001b[0m\u001b[0;34m\u001b[0m\u001b[0m\n\u001b[0;32m--> 482\u001b[0;31m     \u001b[0mparser\u001b[0m \u001b[0;34m=\u001b[0m \u001b[0mTextFileReader\u001b[0m\u001b[0;34m(\u001b[0m\u001b[0mfilepath_or_buffer\u001b[0m\u001b[0;34m,\u001b[0m \u001b[0;34m**\u001b[0m\u001b[0mkwds\u001b[0m\u001b[0;34m)\u001b[0m\u001b[0;34m\u001b[0m\u001b[0;34m\u001b[0m\u001b[0m\n\u001b[0m\u001b[1;32m    483\u001b[0m \u001b[0;34m\u001b[0m\u001b[0m\n\u001b[1;32m    484\u001b[0m     \u001b[0;32mif\u001b[0m \u001b[0mchunksize\u001b[0m \u001b[0;32mor\u001b[0m \u001b[0miterator\u001b[0m\u001b[0;34m:\u001b[0m\u001b[0;34m\u001b[0m\u001b[0;34m\u001b[0m\u001b[0m\n",
      "\u001b[0;32m~/opt/anaconda3/lib/python3.9/site-packages/pandas/io/parsers/readers.py\u001b[0m in \u001b[0;36m__init__\u001b[0;34m(self, f, engine, **kwds)\u001b[0m\n\u001b[1;32m    809\u001b[0m             \u001b[0mself\u001b[0m\u001b[0;34m.\u001b[0m\u001b[0moptions\u001b[0m\u001b[0;34m[\u001b[0m\u001b[0;34m\"has_index_names\"\u001b[0m\u001b[0;34m]\u001b[0m \u001b[0;34m=\u001b[0m \u001b[0mkwds\u001b[0m\u001b[0;34m[\u001b[0m\u001b[0;34m\"has_index_names\"\u001b[0m\u001b[0;34m]\u001b[0m\u001b[0;34m\u001b[0m\u001b[0;34m\u001b[0m\u001b[0m\n\u001b[1;32m    810\u001b[0m \u001b[0;34m\u001b[0m\u001b[0m\n\u001b[0;32m--> 811\u001b[0;31m         \u001b[0mself\u001b[0m\u001b[0;34m.\u001b[0m\u001b[0m_engine\u001b[0m \u001b[0;34m=\u001b[0m \u001b[0mself\u001b[0m\u001b[0;34m.\u001b[0m\u001b[0m_make_engine\u001b[0m\u001b[0;34m(\u001b[0m\u001b[0mself\u001b[0m\u001b[0;34m.\u001b[0m\u001b[0mengine\u001b[0m\u001b[0;34m)\u001b[0m\u001b[0;34m\u001b[0m\u001b[0;34m\u001b[0m\u001b[0m\n\u001b[0m\u001b[1;32m    812\u001b[0m \u001b[0;34m\u001b[0m\u001b[0m\n\u001b[1;32m    813\u001b[0m     \u001b[0;32mdef\u001b[0m \u001b[0mclose\u001b[0m\u001b[0;34m(\u001b[0m\u001b[0mself\u001b[0m\u001b[0;34m)\u001b[0m\u001b[0;34m:\u001b[0m\u001b[0;34m\u001b[0m\u001b[0;34m\u001b[0m\u001b[0m\n",
      "\u001b[0;32m~/opt/anaconda3/lib/python3.9/site-packages/pandas/io/parsers/readers.py\u001b[0m in \u001b[0;36m_make_engine\u001b[0;34m(self, engine)\u001b[0m\n\u001b[1;32m   1038\u001b[0m             )\n\u001b[1;32m   1039\u001b[0m         \u001b[0;31m# error: Too many arguments for \"ParserBase\"\u001b[0m\u001b[0;34m\u001b[0m\u001b[0;34m\u001b[0m\u001b[0m\n\u001b[0;32m-> 1040\u001b[0;31m         \u001b[0;32mreturn\u001b[0m \u001b[0mmapping\u001b[0m\u001b[0;34m[\u001b[0m\u001b[0mengine\u001b[0m\u001b[0;34m]\u001b[0m\u001b[0;34m(\u001b[0m\u001b[0mself\u001b[0m\u001b[0;34m.\u001b[0m\u001b[0mf\u001b[0m\u001b[0;34m,\u001b[0m \u001b[0;34m**\u001b[0m\u001b[0mself\u001b[0m\u001b[0;34m.\u001b[0m\u001b[0moptions\u001b[0m\u001b[0;34m)\u001b[0m  \u001b[0;31m# type: ignore[call-arg]\u001b[0m\u001b[0;34m\u001b[0m\u001b[0;34m\u001b[0m\u001b[0m\n\u001b[0m\u001b[1;32m   1041\u001b[0m \u001b[0;34m\u001b[0m\u001b[0m\n\u001b[1;32m   1042\u001b[0m     \u001b[0;32mdef\u001b[0m \u001b[0m_failover_to_python\u001b[0m\u001b[0;34m(\u001b[0m\u001b[0mself\u001b[0m\u001b[0;34m)\u001b[0m\u001b[0;34m:\u001b[0m\u001b[0;34m\u001b[0m\u001b[0;34m\u001b[0m\u001b[0m\n",
      "\u001b[0;32m~/opt/anaconda3/lib/python3.9/site-packages/pandas/io/parsers/c_parser_wrapper.py\u001b[0m in \u001b[0;36m__init__\u001b[0;34m(self, src, **kwds)\u001b[0m\n\u001b[1;32m     49\u001b[0m \u001b[0;34m\u001b[0m\u001b[0m\n\u001b[1;32m     50\u001b[0m         \u001b[0;31m# open handles\u001b[0m\u001b[0;34m\u001b[0m\u001b[0;34m\u001b[0m\u001b[0m\n\u001b[0;32m---> 51\u001b[0;31m         \u001b[0mself\u001b[0m\u001b[0;34m.\u001b[0m\u001b[0m_open_handles\u001b[0m\u001b[0;34m(\u001b[0m\u001b[0msrc\u001b[0m\u001b[0;34m,\u001b[0m \u001b[0mkwds\u001b[0m\u001b[0;34m)\u001b[0m\u001b[0;34m\u001b[0m\u001b[0;34m\u001b[0m\u001b[0m\n\u001b[0m\u001b[1;32m     52\u001b[0m         \u001b[0;32massert\u001b[0m \u001b[0mself\u001b[0m\u001b[0;34m.\u001b[0m\u001b[0mhandles\u001b[0m \u001b[0;32mis\u001b[0m \u001b[0;32mnot\u001b[0m \u001b[0;32mNone\u001b[0m\u001b[0;34m\u001b[0m\u001b[0;34m\u001b[0m\u001b[0m\n\u001b[1;32m     53\u001b[0m \u001b[0;34m\u001b[0m\u001b[0m\n",
      "\u001b[0;32m~/opt/anaconda3/lib/python3.9/site-packages/pandas/io/parsers/base_parser.py\u001b[0m in \u001b[0;36m_open_handles\u001b[0;34m(self, src, kwds)\u001b[0m\n\u001b[1;32m    220\u001b[0m         \u001b[0mLet\u001b[0m \u001b[0mthe\u001b[0m \u001b[0mreaders\u001b[0m \u001b[0mopen\u001b[0m \u001b[0mIOHandles\u001b[0m \u001b[0mafter\u001b[0m \u001b[0mthey\u001b[0m \u001b[0mare\u001b[0m \u001b[0mdone\u001b[0m \u001b[0;32mwith\u001b[0m \u001b[0mtheir\u001b[0m \u001b[0mpotential\u001b[0m \u001b[0mraises\u001b[0m\u001b[0;34m.\u001b[0m\u001b[0;34m\u001b[0m\u001b[0;34m\u001b[0m\u001b[0m\n\u001b[1;32m    221\u001b[0m         \"\"\"\n\u001b[0;32m--> 222\u001b[0;31m         self.handles = get_handle(\n\u001b[0m\u001b[1;32m    223\u001b[0m             \u001b[0msrc\u001b[0m\u001b[0;34m,\u001b[0m\u001b[0;34m\u001b[0m\u001b[0;34m\u001b[0m\u001b[0m\n\u001b[1;32m    224\u001b[0m             \u001b[0;34m\"r\"\u001b[0m\u001b[0;34m,\u001b[0m\u001b[0;34m\u001b[0m\u001b[0;34m\u001b[0m\u001b[0m\n",
      "\u001b[0;32m~/opt/anaconda3/lib/python3.9/site-packages/pandas/io/common.py\u001b[0m in \u001b[0;36mget_handle\u001b[0;34m(path_or_buf, mode, encoding, compression, memory_map, is_text, errors, storage_options)\u001b[0m\n\u001b[1;32m    700\u001b[0m         \u001b[0;32mif\u001b[0m \u001b[0mioargs\u001b[0m\u001b[0;34m.\u001b[0m\u001b[0mencoding\u001b[0m \u001b[0;32mand\u001b[0m \u001b[0;34m\"b\"\u001b[0m \u001b[0;32mnot\u001b[0m \u001b[0;32min\u001b[0m \u001b[0mioargs\u001b[0m\u001b[0;34m.\u001b[0m\u001b[0mmode\u001b[0m\u001b[0;34m:\u001b[0m\u001b[0;34m\u001b[0m\u001b[0;34m\u001b[0m\u001b[0m\n\u001b[1;32m    701\u001b[0m             \u001b[0;31m# Encoding\u001b[0m\u001b[0;34m\u001b[0m\u001b[0;34m\u001b[0m\u001b[0m\n\u001b[0;32m--> 702\u001b[0;31m             handle = open(\n\u001b[0m\u001b[1;32m    703\u001b[0m                 \u001b[0mhandle\u001b[0m\u001b[0;34m,\u001b[0m\u001b[0;34m\u001b[0m\u001b[0;34m\u001b[0m\u001b[0m\n\u001b[1;32m    704\u001b[0m                 \u001b[0mioargs\u001b[0m\u001b[0;34m.\u001b[0m\u001b[0mmode\u001b[0m\u001b[0;34m,\u001b[0m\u001b[0;34m\u001b[0m\u001b[0;34m\u001b[0m\u001b[0m\n",
      "\u001b[0;31mFileNotFoundError\u001b[0m: [Errno 2] No such file or directory: 'brutos/microdados_enem2018/DADOS/MICRODADOS_ENEM_2018.csv'"
     ]
    }
   ],
   "source": [
    "dadoenem_df = pd.read_csv('brutos/microdados_enem2018/DADOS/MICRODADOS_ENEM_2018.csv', sep=';', encoding='iso-8859-1', usecols=colunas)"
   ]
  },
  {
   "cell_type": "code",
   "execution_count": null,
   "id": "37d7eb91",
   "metadata": {
    "scrolled": true
   },
   "outputs": [],
   "source": [
    "dadoenem_df.head()"
   ]
  },
  {
   "cell_type": "code",
   "execution_count": null,
   "id": "5a2c1ba0",
   "metadata": {},
   "outputs": [],
   "source": [
    "dadoenem_df.info(memory_usage='deep')"
   ]
  },
  {
   "cell_type": "code",
   "execution_count": null,
   "id": "99b62edb",
   "metadata": {
    "scrolled": true
   },
   "outputs": [],
   "source": [
    "dadoenem_df.columns.values"
   ]
  },
  {
   "cell_type": "code",
   "execution_count": null,
   "id": "d030a2f9",
   "metadata": {},
   "outputs": [],
   "source": [
    "enem_df = dadoenem_df"
   ]
  },
  {
   "cell_type": "code",
   "execution_count": null,
   "id": "9bc2f4a2",
   "metadata": {},
   "outputs": [],
   "source": [
    "coluna_uf = enem_df['SG_UF_RESIDENCIA']"
   ]
  },
  {
   "cell_type": "code",
   "execution_count": null,
   "id": "c45e5237",
   "metadata": {},
   "outputs": [],
   "source": [
    "coluna_uf.value_counts()"
   ]
  },
  {
   "cell_type": "code",
   "execution_count": null,
   "id": "23f93294",
   "metadata": {},
   "outputs": [],
   "source": [
    "coluna_uf.hist(bins=27)"
   ]
  },
  {
   "cell_type": "code",
   "execution_count": null,
   "id": "c8cb5cf0",
   "metadata": {},
   "outputs": [],
   "source": [
    "coluna_gestantes = enem_df['IN_GESTANTE']"
   ]
  },
  {
   "cell_type": "code",
   "execution_count": null,
   "id": "544d2992",
   "metadata": {},
   "outputs": [],
   "source": [
    "distGestante = coluna_gestantes.value_counts()"
   ]
  },
  {
   "cell_type": "code",
   "execution_count": null,
   "id": "9ea15393",
   "metadata": {},
   "outputs": [],
   "source": [
    "distGestante"
   ]
  },
  {
   "cell_type": "code",
   "execution_count": null,
   "id": "f562ae68",
   "metadata": {
    "scrolled": false
   },
   "outputs": [],
   "source": [
    "##Pegar o numero distgestante dividir pelo total e multiplicar por 100 para ter a % para cada um dos elementos distgestante - 2 elementos\n",
    "percentualGestante = [100*x/distGestante.sum() for x in distGestante] "
   ]
  },
  {
   "cell_type": "code",
   "execution_count": null,
   "id": "bfb0ce31",
   "metadata": {},
   "outputs": [],
   "source": [
    "percentualGestante"
   ]
  },
  {
   "cell_type": "code",
   "execution_count": null,
   "id": "3d364472",
   "metadata": {},
   "outputs": [],
   "source": [
    "coluna_tpsexo = enem_df['TP_SEXO']"
   ]
  },
  {
   "cell_type": "code",
   "execution_count": null,
   "id": "c26d31f0",
   "metadata": {},
   "outputs": [],
   "source": [
    "distTpsexo = coluna_tpsexo.value_counts()"
   ]
  },
  {
   "cell_type": "code",
   "execution_count": null,
   "id": "c3023aff",
   "metadata": {},
   "outputs": [],
   "source": [
    "distTpsexo"
   ]
  },
  {
   "cell_type": "code",
   "execution_count": null,
   "id": "9a2a0e81",
   "metadata": {},
   "outputs": [],
   "source": [
    "percentTpSexo = [100*x/distTpsexo.sum() for x in distTpsexo]"
   ]
  },
  {
   "cell_type": "code",
   "execution_count": null,
   "id": "c7d51922",
   "metadata": {},
   "outputs": [],
   "source": [
    "##Percentual dentro do universo de quem se declara do sexo feminino"
   ]
  },
  {
   "cell_type": "code",
   "execution_count": null,
   "id": "bdedbdf4",
   "metadata": {
    "scrolled": true
   },
   "outputs": [],
   "source": [
    "sexoFem = distTpsexo[0]\n",
    "\n",
    "num_gestantes = distGestante[1]\n",
    "\n",
    "percentGestantes = 100*num_gestantes/sexoFem\n",
    "\n",
    "percentGestantes"
   ]
  },
  {
   "cell_type": "code",
   "execution_count": null,
   "id": "3b6b3e9b",
   "metadata": {},
   "outputs": [],
   "source": [
    "percentNgestantes = 100 - percentGestantes\n",
    "\n",
    "percentNgestantes"
   ]
  },
  {
   "cell_type": "code",
   "execution_count": null,
   "id": "b2f1f87a",
   "metadata": {},
   "outputs": [],
   "source": [
    "#Analises com GroupBy\n",
    "colunasSelecionada = ['TP_SEXO', 'NU_NOTA_REDACAO']\n",
    "enem_redacao = dadoenem_df.filter(items=colunasSelecionada)"
   ]
  },
  {
   "cell_type": "code",
   "execution_count": null,
   "id": "d7bab964",
   "metadata": {
    "scrolled": true
   },
   "outputs": [],
   "source": [
    "enem_redacao.head()"
   ]
  },
  {
   "cell_type": "code",
   "execution_count": null,
   "id": "250c3035",
   "metadata": {},
   "outputs": [],
   "source": [
    "enem_redacao = enem_redacao.dropna()"
   ]
  },
  {
   "cell_type": "code",
   "execution_count": null,
   "id": "6c896394",
   "metadata": {},
   "outputs": [],
   "source": [
    "enem_redacao.groupby('TP_SEXO').count()"
   ]
  },
  {
   "cell_type": "code",
   "execution_count": null,
   "id": "903e652b",
   "metadata": {},
   "outputs": [],
   "source": [
    "enem_redacao.groupby('TP_SEXO').max()"
   ]
  },
  {
   "cell_type": "code",
   "execution_count": null,
   "id": "075f740d",
   "metadata": {},
   "outputs": [],
   "source": [
    "enem_redacao.groupby('TP_SEXO').min()"
   ]
  },
  {
   "cell_type": "code",
   "execution_count": null,
   "id": "f36243c6",
   "metadata": {},
   "outputs": [],
   "source": [
    "enem_redacao[enem_redacao.NU_NOTA_REDACAO > 0].groupby('TP_SEXO').min()"
   ]
  },
  {
   "cell_type": "code",
   "execution_count": null,
   "id": "6b130cc9",
   "metadata": {},
   "outputs": [],
   "source": [
    "enem_redacao.groupby('TP_SEXO').mean()"
   ]
  },
  {
   "cell_type": "code",
   "execution_count": null,
   "id": "34208be7",
   "metadata": {},
   "outputs": [],
   "source": [
    "enem_redacao.groupby('TP_SEXO').median()"
   ]
  },
  {
   "cell_type": "code",
   "execution_count": null,
   "id": "163dc988",
   "metadata": {},
   "outputs": [],
   "source": [
    "enem_redacao.groupby('TP_SEXO').hist()"
   ]
  },
  {
   "cell_type": "code",
   "execution_count": null,
   "id": "2198ebfd",
   "metadata": {},
   "outputs": [],
   "source": [
    "enem_redacao.groupby('TP_SEXO').describe()"
   ]
  },
  {
   "cell_type": "code",
   "execution_count": null,
   "id": "22eacc9a",
   "metadata": {},
   "outputs": [],
   "source": [
    "colunasSelecionada2 = ['NU_INSCRICAO', 'NU_NOTA_REDACAO', 'SG_UF_RESIDENCIA', 'NU_NOTA_MT', 'Q001', 'Q002']\n",
    "enem_social = dadoenem_df.filter(items=colunasSelecionada2)"
   ]
  },
  {
   "cell_type": "code",
   "execution_count": null,
   "id": "55f6c705",
   "metadata": {
    "scrolled": true
   },
   "outputs": [],
   "source": [
    "enem_social.head()"
   ]
  },
  {
   "cell_type": "code",
   "execution_count": null,
   "id": "7b9d3eb2",
   "metadata": {},
   "outputs": [],
   "source": [
    "enem_social=enem_social.dropna()"
   ]
  },
  {
   "cell_type": "code",
   "execution_count": null,
   "id": "2820e3f5",
   "metadata": {},
   "outputs": [],
   "source": [
    "qdict = {'A':'Nunca estudou',\n",
    "'B':'Não completou a 4ª série/5º ano do Ensino Fundamental',\n",
    "'C':'Completou a 4ª série/5º ano, mas não completou a 8ª série/9º ano do Ensino Fundamental',\n",
    "'D':'Completou a 8ª série/9º ano do Ensino Fundamental, mas não completou o Ensino Médio',\n",
    "'E':'Completou o Ensino Médio, mas não completou a Faculdade',\n",
    "'F':'Completou a Faculdade, mas não completou a Pós-graduação',\n",
    "'G':'Completou a Pós-graduação',\n",
    "'H':'Não sei'}"
   ]
  },
  {
   "cell_type": "code",
   "execution_count": null,
   "id": "bda9c5df",
   "metadata": {},
   "outputs": [],
   "source": [
    "enem_social_df = enem_social.filter(items=['NU_INSCRICAO', 'Q001']).groupby('Q001').count()"
   ]
  },
  {
   "cell_type": "code",
   "execution_count": null,
   "id": "4325b042",
   "metadata": {
    "scrolled": true
   },
   "outputs": [],
   "source": [
    "enem_social_df"
   ]
  },
  {
   "cell_type": "code",
   "execution_count": null,
   "id": "6a559f98",
   "metadata": {},
   "outputs": [],
   "source": [
    "enem_social['DESC_Q001'] = [qdict[resp] for resp in enem_social.Q001]"
   ]
  },
  {
   "cell_type": "code",
   "execution_count": null,
   "id": "ab0bc740",
   "metadata": {},
   "outputs": [],
   "source": [
    "enem_social['DESC_Q002'] = [qdict[resp] for resp in enem_social.Q002]"
   ]
  },
  {
   "cell_type": "code",
   "execution_count": null,
   "id": "ef17fb52",
   "metadata": {},
   "outputs": [],
   "source": [
    "enem_social.head()"
   ]
  },
  {
   "cell_type": "code",
   "execution_count": null,
   "id": "2f4ffc6c",
   "metadata": {},
   "outputs": [],
   "source": [
    "enem_social_pai = enem_social.filter(items=['NU_INSCRICAO', 'DESC_Q001']).groupby('DESC_Q001').count().sort_values(by='NU_INSCRICAO', ascending=False)"
   ]
  },
  {
   "cell_type": "code",
   "execution_count": null,
   "id": "7e1840ad",
   "metadata": {},
   "outputs": [],
   "source": [
    "enem_social_pai"
   ]
  },
  {
   "cell_type": "code",
   "execution_count": null,
   "id": "02bc14ea",
   "metadata": {},
   "outputs": [],
   "source": [
    "enem_social_mae = enem_social.filter(items=['NU_INSCRICAO', 'DESC_Q002']).groupby('DESC_Q002').count().sort_values(by='NU_INSCRICAO', ascending=False)"
   ]
  },
  {
   "cell_type": "code",
   "execution_count": null,
   "id": "85c14a63",
   "metadata": {},
   "outputs": [],
   "source": [
    "enem_social_mae"
   ]
  },
  {
   "cell_type": "code",
   "execution_count": null,
   "id": "9afea7c5",
   "metadata": {},
   "outputs": [],
   "source": [
    "matematica_mae = enem_social.filter(items=['NU_NOTA_MT', 'DESC_Q002']).groupby('DESC_Q002').mean().sort_values(by='NU_NOTA_MT', ascending=False)"
   ]
  },
  {
   "cell_type": "code",
   "execution_count": null,
   "id": "bf15dde3",
   "metadata": {},
   "outputs": [],
   "source": [
    "matematica_mae"
   ]
  },
  {
   "cell_type": "code",
   "execution_count": null,
   "id": "3b011c4b",
   "metadata": {},
   "outputs": [],
   "source": [
    "matematica_pai = enem_social.filter(items=['NU_NOTA_MT', 'DESC_Q001']).groupby('DESC_Q001').mean().sort_values(by='NU_NOTA_MT', ascending=False)"
   ]
  },
  {
   "cell_type": "code",
   "execution_count": null,
   "id": "52c741af",
   "metadata": {},
   "outputs": [],
   "source": [
    "matematica_pai "
   ]
  },
  {
   "cell_type": "code",
   "execution_count": null,
   "id": "622dad68",
   "metadata": {},
   "outputs": [],
   "source": [
    "redacao_pai = enem_social.filter(items=['NU_NOTA_REDACAO', 'DESC_Q001']).groupby('DESC_Q001').mean().sort_values(by='NU_NOTA_REDACAO', ascending=False)"
   ]
  },
  {
   "cell_type": "code",
   "execution_count": null,
   "id": "8f307c5a",
   "metadata": {},
   "outputs": [],
   "source": [
    "redacao_pai"
   ]
  },
  {
   "cell_type": "code",
   "execution_count": null,
   "id": "f83acb14",
   "metadata": {},
   "outputs": [],
   "source": [
    "redacao_mae = enem_social.filter(items=['NU_NOTA_REDACAO', 'DESC_Q002']).groupby('DESC_Q002').mean().sort_values(by='NU_NOTA_REDACAO', ascending=False)"
   ]
  },
  {
   "cell_type": "code",
   "execution_count": null,
   "id": "fc87ea8c",
   "metadata": {},
   "outputs": [],
   "source": [
    "redacao_mae"
   ]
  },
  {
   "cell_type": "code",
   "execution_count": null,
   "id": "8060f445",
   "metadata": {},
   "outputs": [],
   "source": [
    "redacao_mae.plot()"
   ]
  },
  {
   "cell_type": "code",
   "execution_count": null,
   "id": "24c1f852",
   "metadata": {},
   "outputs": [],
   "source": [
    "redacao_mae.describe()"
   ]
  },
  {
   "cell_type": "code",
   "execution_count": null,
   "id": "25088786",
   "metadata": {
    "scrolled": true
   },
   "outputs": [],
   "source": [
    "#Utilizacao Where e Groupby lista\n",
    "enem_social"
   ]
  },
  {
   "cell_type": "code",
   "execution_count": null,
   "id": "a5e9398a",
   "metadata": {},
   "outputs": [],
   "source": [
    "enem_social['SG_UF_RESIDENCIA'] = dadoenem_df.SG_UF_RESIDENCIA"
   ]
  },
  {
   "cell_type": "code",
   "execution_count": null,
   "id": "0d4ec7b1",
   "metadata": {
    "scrolled": true
   },
   "outputs": [],
   "source": [
    "enem_social"
   ]
  },
  {
   "cell_type": "code",
   "execution_count": null,
   "id": "0f4df2f3",
   "metadata": {},
   "outputs": [],
   "source": [
    "enem_social.filter(items=['NU_NOTA_REDACAO', 'DESC_Q002'])\\\n",
    ".where(enem_social.SG_UF_RESIDENCIA =='SP')\\\n",
    ".groupby('DESC_Q002')\\\n",
    ".mean().sort_values(by='NU_NOTA_REDACAO', ascending=False)"
   ]
  },
  {
   "cell_type": "code",
   "execution_count": null,
   "id": "0324e56c",
   "metadata": {},
   "outputs": [],
   "source": [
    "enem_social.filter(items=['NU_NOTA_REDACAO', 'SG_UF_RESIDENCIA','DESC_Q002'])\\\n",
    ".groupby(['SG_UF_RESIDENCIA', 'DESC_Q002'])\\\n",
    ".mean()"
   ]
  },
  {
   "cell_type": "code",
   "execution_count": null,
   "id": "a03dd91e",
   "metadata": {},
   "outputs": [],
   "source": []
  },
  {
   "cell_type": "code",
   "execution_count": null,
   "id": "6975fc17",
   "metadata": {},
   "outputs": [],
   "source": []
  }
 ],
 "metadata": {
  "kernelspec": {
   "display_name": "Python 3 (ipykernel)",
   "language": "python",
   "name": "python3"
  },
  "language_info": {
   "codemirror_mode": {
    "name": "ipython",
    "version": 3
   },
   "file_extension": ".py",
   "mimetype": "text/x-python",
   "name": "python",
   "nbconvert_exporter": "python",
   "pygments_lexer": "ipython3",
   "version": "3.9.7"
  }
 },
 "nbformat": 4,
 "nbformat_minor": 5
}
